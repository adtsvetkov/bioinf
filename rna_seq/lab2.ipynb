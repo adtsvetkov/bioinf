{
 "cells": [
  {
   "cell_type": "markdown",
   "metadata": {},
   "source": [
    "\n",
    "# LAB2: Анализ дифференциальной экспрессии\n",
    "\n",
    "# Использование DESeq2\n",
    "\n",
    "## Подготовительные действия"
   ]
  },
  {
   "cell_type": "markdown",
   "metadata": {},
   "source": [
    "Установим \"DESeq2\" и загрузим необходимые библиотеки."
   ]
  },
  {
   "cell_type": "code",
   "execution_count": 1,
   "metadata": {},
   "outputs": [],
   "source": [
    "options(warn = -1)\n",
    "suppressMessages(BiocManager::install(\"DESeq2\"))"
   ]
  },
  {
   "cell_type": "code",
   "execution_count": 2,
   "metadata": {},
   "outputs": [],
   "source": [
    "suppressMessages(library(DESeq2))"
   ]
  },
  {
   "cell_type": "markdown",
   "metadata": {},
   "source": [
    "Считаем и предобработаем данные."
   ]
  },
  {
   "cell_type": "code",
   "execution_count": 3,
   "metadata": {},
   "outputs": [],
   "source": [
    "sample_name <- 'E-GEOD-78936.sdrf.txt'\n",
    "counts_name <- 'E-GEOD-78936-raw-counts.tsv'"
   ]
  },
  {
   "cell_type": "code",
   "execution_count": 4,
   "metadata": {},
   "outputs": [],
   "source": [
    "smpls <- read.table(sample_name, sep = \"\\t\", header = T)\n",
    "counts <- read.table(counts_name, sep = '\\t', header = T, row.names = 1)[, -1]\n",
    "\n",
    "# возьмем только важные нам столбцы\n",
    "smpls <- unique(smpls[, c(\"Scan.Name\", \"FactorValue..organism.part.\", \"FactorValue..disease.\")])\n",
    "colnames(smpls) <- c(\"Scan\", \"Brain_area\", \"Disease\")\n",
    "rownames(smpls) <- smpls$Scan\n",
    "smpls$Scan <- NULL\n",
    "\n",
    "# поскольку строки в smpls уже отсортированы, отсортируем столбцы в counts\n",
    "# чтобы номер столбца был равен номеру строки в smpls\n",
    "\n",
    "counts <- counts[, order(names(counts))]"
   ]
  },
  {
   "cell_type": "markdown",
   "metadata": {},
   "source": [
    "Raw counts:"
   ]
  },
  {
   "cell_type": "code",
   "execution_count": 5,
   "metadata": {},
   "outputs": [
    {
     "data": {
      "text/html": [
       "<table class=\"dataframe\">\n",
       "<caption>A data.frame: 6 × 82</caption>\n",
       "<thead>\n",
       "\t<tr><th></th><th scope=col>SRR3206740</th><th scope=col>SRR3206741</th><th scope=col>SRR3206742</th><th scope=col>SRR3206743</th><th scope=col>SRR3206744</th><th scope=col>SRR3206745</th><th scope=col>SRR3206746</th><th scope=col>SRR3206747</th><th scope=col>SRR3206748</th><th scope=col>SRR3206749</th><th scope=col>...</th><th scope=col>SRR3206812</th><th scope=col>SRR3206813</th><th scope=col>SRR3206814</th><th scope=col>SRR3206815</th><th scope=col>SRR3206816</th><th scope=col>SRR3206817</th><th scope=col>SRR3206818</th><th scope=col>SRR3206819</th><th scope=col>SRR3206820</th><th scope=col>SRR3206821</th></tr>\n",
       "\t<tr><th></th><th scope=col>&lt;int&gt;</th><th scope=col>&lt;int&gt;</th><th scope=col>&lt;int&gt;</th><th scope=col>&lt;int&gt;</th><th scope=col>&lt;int&gt;</th><th scope=col>&lt;int&gt;</th><th scope=col>&lt;int&gt;</th><th scope=col>&lt;int&gt;</th><th scope=col>&lt;int&gt;</th><th scope=col>&lt;int&gt;</th><th scope=col>...</th><th scope=col>&lt;int&gt;</th><th scope=col>&lt;int&gt;</th><th scope=col>&lt;int&gt;</th><th scope=col>&lt;int&gt;</th><th scope=col>&lt;int&gt;</th><th scope=col>&lt;int&gt;</th><th scope=col>&lt;int&gt;</th><th scope=col>&lt;int&gt;</th><th scope=col>&lt;int&gt;</th><th scope=col>&lt;int&gt;</th></tr>\n",
       "</thead>\n",
       "<tbody>\n",
       "\t<tr><th scope=row>ENSG00000000003</th><td> 7</td><td>21</td><td> 4</td><td>27</td><td>18</td><td>12</td><td>17</td><td>29</td><td>23</td><td>30</td><td>...</td><td>25</td><td>53</td><td>15</td><td>15</td><td>43</td><td>30</td><td>22</td><td>28</td><td>29</td><td>24</td></tr>\n",
       "\t<tr><th scope=row>ENSG00000000005</th><td> 0</td><td> 1</td><td> 0</td><td> 1</td><td> 3</td><td> 0</td><td> 0</td><td> 0</td><td> 0</td><td> 2</td><td>...</td><td> 2</td><td> 3</td><td> 0</td><td> 0</td><td> 0</td><td> 0</td><td> 0</td><td> 0</td><td> 0</td><td> 0</td></tr>\n",
       "\t<tr><th scope=row>ENSG00000000419</th><td>46</td><td>69</td><td>14</td><td>56</td><td>22</td><td>64</td><td>38</td><td>29</td><td>59</td><td>62</td><td>...</td><td>62</td><td>83</td><td>39</td><td>62</td><td>31</td><td>30</td><td>36</td><td>38</td><td>22</td><td>27</td></tr>\n",
       "\t<tr><th scope=row>ENSG00000000457</th><td>19</td><td>23</td><td> 1</td><td>29</td><td>15</td><td>27</td><td>17</td><td>17</td><td>21</td><td>23</td><td>...</td><td>32</td><td>42</td><td>24</td><td>36</td><td>14</td><td>19</td><td>14</td><td>25</td><td>19</td><td>12</td></tr>\n",
       "\t<tr><th scope=row>ENSG00000000460</th><td> 1</td><td> 6</td><td> 1</td><td> 2</td><td> 7</td><td> 2</td><td> 0</td><td> 0</td><td> 4</td><td> 6</td><td>...</td><td> 9</td><td> 7</td><td> 3</td><td> 6</td><td> 3</td><td> 5</td><td> 2</td><td> 7</td><td> 2</td><td> 5</td></tr>\n",
       "\t<tr><th scope=row>ENSG00000000938</th><td>10</td><td> 5</td><td>24</td><td>10</td><td>15</td><td> 3</td><td> 0</td><td>14</td><td>13</td><td>11</td><td>...</td><td>22</td><td> 7</td><td>19</td><td>11</td><td>22</td><td>24</td><td>17</td><td>30</td><td>12</td><td> 8</td></tr>\n",
       "</tbody>\n",
       "</table>\n"
      ],
      "text/latex": [
       "A data.frame: 6 × 82\n",
       "\\begin{tabular}{r|lllllllllllllllllllll}\n",
       "  & SRR3206740 & SRR3206741 & SRR3206742 & SRR3206743 & SRR3206744 & SRR3206745 & SRR3206746 & SRR3206747 & SRR3206748 & SRR3206749 & ... & SRR3206812 & SRR3206813 & SRR3206814 & SRR3206815 & SRR3206816 & SRR3206817 & SRR3206818 & SRR3206819 & SRR3206820 & SRR3206821\\\\\n",
       "  & <int> & <int> & <int> & <int> & <int> & <int> & <int> & <int> & <int> & <int> & ... & <int> & <int> & <int> & <int> & <int> & <int> & <int> & <int> & <int> & <int>\\\\\n",
       "\\hline\n",
       "\tENSG00000000003 &  7 & 21 &  4 & 27 & 18 & 12 & 17 & 29 & 23 & 30 & ... & 25 & 53 & 15 & 15 & 43 & 30 & 22 & 28 & 29 & 24\\\\\n",
       "\tENSG00000000005 &  0 &  1 &  0 &  1 &  3 &  0 &  0 &  0 &  0 &  2 & ... &  2 &  3 &  0 &  0 &  0 &  0 &  0 &  0 &  0 &  0\\\\\n",
       "\tENSG00000000419 & 46 & 69 & 14 & 56 & 22 & 64 & 38 & 29 & 59 & 62 & ... & 62 & 83 & 39 & 62 & 31 & 30 & 36 & 38 & 22 & 27\\\\\n",
       "\tENSG00000000457 & 19 & 23 &  1 & 29 & 15 & 27 & 17 & 17 & 21 & 23 & ... & 32 & 42 & 24 & 36 & 14 & 19 & 14 & 25 & 19 & 12\\\\\n",
       "\tENSG00000000460 &  1 &  6 &  1 &  2 &  7 &  2 &  0 &  0 &  4 &  6 & ... &  9 &  7 &  3 &  6 &  3 &  5 &  2 &  7 &  2 &  5\\\\\n",
       "\tENSG00000000938 & 10 &  5 & 24 & 10 & 15 &  3 &  0 & 14 & 13 & 11 & ... & 22 &  7 & 19 & 11 & 22 & 24 & 17 & 30 & 12 &  8\\\\\n",
       "\\end{tabular}\n"
      ],
      "text/markdown": [
       "\n",
       "A data.frame: 6 × 82\n",
       "\n",
       "| <!--/--> | SRR3206740 &lt;int&gt; | SRR3206741 &lt;int&gt; | SRR3206742 &lt;int&gt; | SRR3206743 &lt;int&gt; | SRR3206744 &lt;int&gt; | SRR3206745 &lt;int&gt; | SRR3206746 &lt;int&gt; | SRR3206747 &lt;int&gt; | SRR3206748 &lt;int&gt; | SRR3206749 &lt;int&gt; | ... ... | SRR3206812 &lt;int&gt; | SRR3206813 &lt;int&gt; | SRR3206814 &lt;int&gt; | SRR3206815 &lt;int&gt; | SRR3206816 &lt;int&gt; | SRR3206817 &lt;int&gt; | SRR3206818 &lt;int&gt; | SRR3206819 &lt;int&gt; | SRR3206820 &lt;int&gt; | SRR3206821 &lt;int&gt; |\n",
       "|---|---|---|---|---|---|---|---|---|---|---|---|---|---|---|---|---|---|---|---|---|---|\n",
       "| ENSG00000000003 |  7 | 21 |  4 | 27 | 18 | 12 | 17 | 29 | 23 | 30 | ... | 25 | 53 | 15 | 15 | 43 | 30 | 22 | 28 | 29 | 24 |\n",
       "| ENSG00000000005 |  0 |  1 |  0 |  1 |  3 |  0 |  0 |  0 |  0 |  2 | ... |  2 |  3 |  0 |  0 |  0 |  0 |  0 |  0 |  0 |  0 |\n",
       "| ENSG00000000419 | 46 | 69 | 14 | 56 | 22 | 64 | 38 | 29 | 59 | 62 | ... | 62 | 83 | 39 | 62 | 31 | 30 | 36 | 38 | 22 | 27 |\n",
       "| ENSG00000000457 | 19 | 23 |  1 | 29 | 15 | 27 | 17 | 17 | 21 | 23 | ... | 32 | 42 | 24 | 36 | 14 | 19 | 14 | 25 | 19 | 12 |\n",
       "| ENSG00000000460 |  1 |  6 |  1 |  2 |  7 |  2 |  0 |  0 |  4 |  6 | ... |  9 |  7 |  3 |  6 |  3 |  5 |  2 |  7 |  2 |  5 |\n",
       "| ENSG00000000938 | 10 |  5 | 24 | 10 | 15 |  3 |  0 | 14 | 13 | 11 | ... | 22 |  7 | 19 | 11 | 22 | 24 | 17 | 30 | 12 |  8 |\n",
       "\n"
      ],
      "text/plain": [
       "                SRR3206740 SRR3206741 SRR3206742 SRR3206743 SRR3206744\n",
       "ENSG00000000003  7         21          4         27         18        \n",
       "ENSG00000000005  0          1          0          1          3        \n",
       "ENSG00000000419 46         69         14         56         22        \n",
       "ENSG00000000457 19         23          1         29         15        \n",
       "ENSG00000000460  1          6          1          2          7        \n",
       "ENSG00000000938 10          5         24         10         15        \n",
       "                SRR3206745 SRR3206746 SRR3206747 SRR3206748 SRR3206749 ...\n",
       "ENSG00000000003 12         17         29         23         30         ...\n",
       "ENSG00000000005  0          0          0          0          2         ...\n",
       "ENSG00000000419 64         38         29         59         62         ...\n",
       "ENSG00000000457 27         17         17         21         23         ...\n",
       "ENSG00000000460  2          0          0          4          6         ...\n",
       "ENSG00000000938  3          0         14         13         11         ...\n",
       "                SRR3206812 SRR3206813 SRR3206814 SRR3206815 SRR3206816\n",
       "ENSG00000000003 25         53         15         15         43        \n",
       "ENSG00000000005  2          3          0          0          0        \n",
       "ENSG00000000419 62         83         39         62         31        \n",
       "ENSG00000000457 32         42         24         36         14        \n",
       "ENSG00000000460  9          7          3          6          3        \n",
       "ENSG00000000938 22          7         19         11         22        \n",
       "                SRR3206817 SRR3206818 SRR3206819 SRR3206820 SRR3206821\n",
       "ENSG00000000003 30         22         28         29         24        \n",
       "ENSG00000000005  0          0          0          0          0        \n",
       "ENSG00000000419 30         36         38         22         27        \n",
       "ENSG00000000457 19         14         25         19         12        \n",
       "ENSG00000000460  5          2          7          2          5        \n",
       "ENSG00000000938 24         17         30         12          8        "
      ]
     },
     "metadata": {},
     "output_type": "display_data"
    }
   ],
   "source": [
    "head(counts)"
   ]
  },
  {
   "cell_type": "markdown",
   "metadata": {},
   "source": [
    "Gene samples data:"
   ]
  },
  {
   "cell_type": "code",
   "execution_count": 6,
   "metadata": {},
   "outputs": [
    {
     "data": {
      "text/html": [
       "<table class=\"dataframe\">\n",
       "<caption>A data.frame: 6 × 2</caption>\n",
       "<thead>\n",
       "\t<tr><th></th><th scope=col>Brain_area</th><th scope=col>Disease</th></tr>\n",
       "\t<tr><th></th><th scope=col>&lt;chr&gt;</th><th scope=col>&lt;chr&gt;</th></tr>\n",
       "</thead>\n",
       "<tbody>\n",
       "\t<tr><th scope=row>SRR3206740</th><td>Brodmann (1909) area 11</td><td>bipolar disorder</td></tr>\n",
       "\t<tr><th scope=row>SRR3206741</th><td>Brodmann (1909) area 11</td><td>bipolar disorder</td></tr>\n",
       "\t<tr><th scope=row>SRR3206742</th><td>Brodmann (1909) area 11</td><td>bipolar disorder</td></tr>\n",
       "\t<tr><th scope=row>SRR3206743</th><td>Brodmann (1909) area 11</td><td>bipolar disorder</td></tr>\n",
       "\t<tr><th scope=row>SRR3206744</th><td>Brodmann (1909) area 11</td><td>bipolar disorder</td></tr>\n",
       "\t<tr><th scope=row>SRR3206745</th><td>Brodmann (1909) area 11</td><td>bipolar disorder</td></tr>\n",
       "</tbody>\n",
       "</table>\n"
      ],
      "text/latex": [
       "A data.frame: 6 × 2\n",
       "\\begin{tabular}{r|ll}\n",
       "  & Brain\\_area & Disease\\\\\n",
       "  & <chr> & <chr>\\\\\n",
       "\\hline\n",
       "\tSRR3206740 & Brodmann (1909) area 11 & bipolar disorder\\\\\n",
       "\tSRR3206741 & Brodmann (1909) area 11 & bipolar disorder\\\\\n",
       "\tSRR3206742 & Brodmann (1909) area 11 & bipolar disorder\\\\\n",
       "\tSRR3206743 & Brodmann (1909) area 11 & bipolar disorder\\\\\n",
       "\tSRR3206744 & Brodmann (1909) area 11 & bipolar disorder\\\\\n",
       "\tSRR3206745 & Brodmann (1909) area 11 & bipolar disorder\\\\\n",
       "\\end{tabular}\n"
      ],
      "text/markdown": [
       "\n",
       "A data.frame: 6 × 2\n",
       "\n",
       "| <!--/--> | Brain_area &lt;chr&gt; | Disease &lt;chr&gt; |\n",
       "|---|---|---|\n",
       "| SRR3206740 | Brodmann (1909) area 11 | bipolar disorder |\n",
       "| SRR3206741 | Brodmann (1909) area 11 | bipolar disorder |\n",
       "| SRR3206742 | Brodmann (1909) area 11 | bipolar disorder |\n",
       "| SRR3206743 | Brodmann (1909) area 11 | bipolar disorder |\n",
       "| SRR3206744 | Brodmann (1909) area 11 | bipolar disorder |\n",
       "| SRR3206745 | Brodmann (1909) area 11 | bipolar disorder |\n",
       "\n"
      ],
      "text/plain": [
       "           Brain_area              Disease         \n",
       "SRR3206740 Brodmann (1909) area 11 bipolar disorder\n",
       "SRR3206741 Brodmann (1909) area 11 bipolar disorder\n",
       "SRR3206742 Brodmann (1909) area 11 bipolar disorder\n",
       "SRR3206743 Brodmann (1909) area 11 bipolar disorder\n",
       "SRR3206744 Brodmann (1909) area 11 bipolar disorder\n",
       "SRR3206745 Brodmann (1909) area 11 bipolar disorder"
      ]
     },
     "metadata": {},
     "output_type": "display_data"
    }
   ],
   "source": [
    "head(smpls)"
   ]
  },
  {
   "cell_type": "markdown",
   "metadata": {},
   "source": [
    "## DESeq2 usage"
   ]
  },
  {
   "cell_type": "markdown",
   "metadata": {},
   "source": [
    "Итак, поскольку наши данные имеют два столбца полезных метаданных - это область мозга, для которой проводились исследования (BA9/BA11/BA24), а также само значение заболевания (шизофрения/биполярное расстройство/здоровый человек), параметр `design` будет особым. Будем тестировать влияние на \"заболевание\" такого фактора как \"область мозга\"."
   ]
  },
  {
   "cell_type": "code",
   "execution_count": 7,
   "metadata": {},
   "outputs": [],
   "source": [
    "des_obj <- suppressMessages(DESeqDataSetFromMatrix(countData = counts,\n",
    "                                   colData = smpls,\n",
    "                                   design = ~Brain_area + Disease))"
   ]
  },
  {
   "cell_type": "markdown",
   "metadata": {},
   "source": [
    "Для наглядности нарисуем данные в PCA (это, правда, ничего полезного не дает, но я попытался)."
   ]
  },
  {
   "cell_type": "code",
   "execution_count": 8,
   "metadata": {},
   "outputs": [
    {
     "data": {
      "image/png": "[encoded data removed]",
      "text/plain": [
       "plot without title"
      ]
     },
     "metadata": {
      "image/png": {
       "height": 750,
       "width": 1500
      }
     },
     "output_type": "display_data"
    }
   ],
   "source": [
    "options(repr.plot.width=10, repr.plot.height=5, repr.plot.res = 300)\n",
    "# blind = TRUE because of \n",
    "# comparing samples in an manner unbiased by prior information on samples\n",
    "vstdata <- vst(des_obj, blind = T)\n",
    "plotPCA(vstdata, intgroup = c(\"Brain_area\", \"Disease\"))"
   ]
  },
  {
   "cell_type": "markdown",
   "metadata": {},
   "source": [
    "Теперь проведем сам анализ. Он происходит поэтапно:  \n",
    "- estimating size factors\n",
    "- estimating dispersions\n",
    "- gene-wise dispersion estimates\n",
    "- mean-dispersion relationship\n",
    "- final dispersion estimates\n",
    "- fitting model and testing"
   ]
  },
  {
   "cell_type": "code",
   "execution_count": 10,
   "metadata": {},
   "outputs": [
    {
     "data": {
      "text/plain": [
       "class: DESeqDataSet \n",
       "dim: 58735 82 \n",
       "metadata(1): version\n",
       "assays(6): counts mu ... replaceCounts replaceCooks\n",
       "rownames(58735): ENSG00000000003 ENSG00000000005 ... ENSG00000285993\n",
       "  ENSG00000285994\n",
       "rowData names(35): baseMean baseVar ... maxCooks replace\n",
       "colnames(82): SRR3206740 SRR3206741 ... SRR3206820 SRR3206821\n",
       "colData names(4): Brain_area Disease sizeFactor replaceable"
      ]
     },
     "metadata": {},
     "output_type": "display_data"
    }
   ],
   "source": [
    "DES <- suppressMessages(DESeq(des_obj))\n",
    "DES"
   ]
  },
  {
   "cell_type": "markdown",
   "metadata": {},
   "source": [
    "Посмотрим, какие результаты получились:"
   ]
  },
  {
   "cell_type": "code",
   "execution_count": 11,
   "metadata": {},
   "outputs": [
    {
     "data": {
      "text/html": [
       "<style>\n",
       ".list-inline {list-style: none; margin:0; padding: 0}\n",
       ".list-inline>li {display: inline-block}\n",
       ".list-inline>li:not(:last-child)::after {content: \"\\00b7\"; padding: 0 .5ex}\n",
       "</style>\n",
       "<ol class=list-inline><li>'Intercept'</li><li>'Brain_area_Brodmann..1909..area.24_vs_Brodmann..1909..area.11'</li><li>'Brain_area_Brodmann..1909..area.9_vs_Brodmann..1909..area.11'</li><li>'Disease_normal_vs_bipolar.disorder'</li><li>'Disease_schizophrenia_vs_bipolar.disorder'</li></ol>\n"
      ],
      "text/latex": [
       "\\begin{enumerate*}\n",
       "\\item 'Intercept'\n",
       "\\item 'Brain\\_area\\_Brodmann..1909..area.24\\_vs\\_Brodmann..1909..area.11'\n",
       "\\item 'Brain\\_area\\_Brodmann..1909..area.9\\_vs\\_Brodmann..1909..area.11'\n",
       "\\item 'Disease\\_normal\\_vs\\_bipolar.disorder'\n",
       "\\item 'Disease\\_schizophrenia\\_vs\\_bipolar.disorder'\n",
       "\\end{enumerate*}\n"
      ],
      "text/markdown": [
       "1. 'Intercept'\n",
       "2. 'Brain_area_Brodmann..1909..area.24_vs_Brodmann..1909..area.11'\n",
       "3. 'Brain_area_Brodmann..1909..area.9_vs_Brodmann..1909..area.11'\n",
       "4. 'Disease_normal_vs_bipolar.disorder'\n",
       "5. 'Disease_schizophrenia_vs_bipolar.disorder'\n",
       "\n",
       "\n"
      ],
      "text/plain": [
       "[1] \"Intercept\"                                                    \n",
       "[2] \"Brain_area_Brodmann..1909..area.24_vs_Brodmann..1909..area.11\"\n",
       "[3] \"Brain_area_Brodmann..1909..area.9_vs_Brodmann..1909..area.11\" \n",
       "[4] \"Disease_normal_vs_bipolar.disorder\"                           \n",
       "[5] \"Disease_schizophrenia_vs_bipolar.disorder\"                    "
      ]
     },
     "metadata": {},
     "output_type": "display_data"
    }
   ],
   "source": [
    "resultsNames(DES)"
   ]
  },
  {
   "cell_type": "markdown",
   "metadata": {},
   "source": [
    "Выберем шизофрению и биполярное расстройство."
   ]
  },
  {
   "cell_type": "code",
   "execution_count": 12,
   "metadata": {},
   "outputs": [
    {
     "data": {
      "text/plain": [
       "log2 fold change (MLE): Disease schizophrenia vs bipolar.disorder \n",
       "Wald test p-value: Disease schizophrenia vs bipolar.disorder \n",
       "DataFrame with 58735 rows and 6 columns\n",
       "                 baseMean log2FoldChange     lfcSE        stat    pvalue\n",
       "                <numeric>      <numeric> <numeric>   <numeric> <numeric>\n",
       "ENSG00000000003 20.188784   -0.018986774  0.153263 -0.12388341  0.901408\n",
       "ENSG00000000005  0.399063   -0.812156025  0.843366 -0.96299305  0.335551\n",
       "ENSG00000000419 45.608842   -0.089971093  0.124552 -0.72235928  0.470074\n",
       "ENSG00000000457 22.157197    0.111351502  0.109060  1.02101116  0.307249\n",
       "ENSG00000000460  3.760020   -0.000720035  0.259048 -0.00277954  0.997782\n",
       "...                   ...            ...       ...         ...       ...\n",
       "ENSG00000285990 0.0107683     -0.0300479  3.476204 -0.00864389  0.993103\n",
       "ENSG00000285991 3.7600243     -0.2720523  0.259544 -1.04819238  0.294550\n",
       "ENSG00000285992 0.0000000             NA        NA          NA        NA\n",
       "ENSG00000285993 0.0609192     -0.2220421  3.469213 -0.06400359  0.948967\n",
       "ENSG00000285994 1.2896262     -0.1424972  0.463841 -0.30721157  0.758682\n",
       "                     padj\n",
       "                <numeric>\n",
       "ENSG00000000003  0.999957\n",
       "ENSG00000000005  0.999957\n",
       "ENSG00000000419  0.999957\n",
       "ENSG00000000457  0.999957\n",
       "ENSG00000000460  0.999957\n",
       "...                   ...\n",
       "ENSG00000285990  0.999957\n",
       "ENSG00000285991  0.999957\n",
       "ENSG00000285992        NA\n",
       "ENSG00000285993  0.999957\n",
       "ENSG00000285994  0.999957"
      ]
     },
     "metadata": {},
     "output_type": "display_data"
    }
   ],
   "source": [
    "res <- results(DES, name = \"Disease_schizophrenia_vs_bipolar.disorder\", alpha = 0.05)\n",
    "res"
   ]
  },
  {
   "cell_type": "markdown",
   "metadata": {},
   "source": [
    "Видим, что в таблице получились `NA`. Гены в `DESeq2` автоматически фильтруются \"независимой фильтрацией\". Гены, которые получили значение `NA` метод автоматически отфильтровал.  \n",
    "\"Независимая фильтрация\" представляет собой оптимизацию количества скорректированных значений p-value ниже указанного уровня значимости.  \n",
    "Уровень значимости по умолчанию для независимой фильтрации = `0.1`, но мы задали его насильно равным `0.05`, как указано в статье для этого кейса."
   ]
  },
  {
   "cell_type": "markdown",
   "metadata": {},
   "source": [
    "Теперь отфильтруем полученные данные все по тому же порогу `padj < 0.05`.  \n",
    "Удовлетворяющие этому условию гены будут считаться дифференциально экспрессирующимися."
   ]
  },
  {
   "cell_type": "code",
   "execution_count": 13,
   "metadata": {},
   "outputs": [
    {
     "data": {
      "text/plain": [
       "log2 fold change (MLE): Disease schizophrenia vs bipolar.disorder \n",
       "Wald test p-value: Disease schizophrenia vs bipolar.disorder \n",
       "DataFrame with 1 row and 6 columns\n",
       "                 baseMean log2FoldChange     lfcSE      stat      pvalue\n",
       "                <numeric>      <numeric> <numeric> <numeric>   <numeric>\n",
       "ENSG00000262902   48.9828       -3.48245  0.559036  -6.22939 4.68261e-10\n",
       "                       padj\n",
       "                  <numeric>\n",
       "ENSG00000262902 2.05318e-05"
      ]
     },
     "metadata": {},
     "output_type": "display_data"
    }
   ],
   "source": [
    "res <- res[complete.cases(res), ]\n",
    "res <- res[res[, \"padj\"] < 0.05, ]\n",
    "res"
   ]
  },
  {
   "cell_type": "markdown",
   "metadata": {},
   "source": [
    "Подходящий под наше условие ген всего один. Можем считать, что анамнез людей, болеющих шизофренией и биполярным расстройством схож. Поэтому рассмотрим тогда случай здоровых пациентов VS больных биполярным расстройством. "
   ]
  },
  {
   "cell_type": "code",
   "execution_count": 14,
   "metadata": {},
   "outputs": [
    {
     "data": {
      "text/plain": [
       "log2 fold change (MLE): Disease normal vs bipolar.disorder \n",
       "Wald test p-value: Disease normal vs bipolar.disorder \n",
       "DataFrame with 564 rows and 6 columns\n",
       "                 baseMean log2FoldChange     lfcSE      stat      pvalue\n",
       "                <numeric>      <numeric> <numeric> <numeric>   <numeric>\n",
       "ENSG00000255823   28.2630       -5.01106  0.730558  -6.85922 6.92351e-12\n",
       "ENSG00000187193   51.0694       -2.20647  0.378216  -5.83390 5.41478e-09\n",
       "ENSG00000262902   48.9828       -3.38750  0.581318  -5.82728 5.63369e-09\n",
       "ENSG00000237973  393.3385       -1.55862  0.290039  -5.37383 7.70808e-08\n",
       "ENSG00000169715  183.5905       -1.26831  0.241224  -5.25782 1.45772e-07\n",
       "...                   ...            ...       ...       ...         ...\n",
       "ENSG00000147862  431.1041      -0.345581 0.1118464  -3.08978  0.00200305\n",
       "ENSG00000135454  168.6610       0.334071 0.1081560   3.08879  0.00200974\n",
       "ENSG00000125977  240.2973      -0.352862 0.1143572  -3.08561  0.00203134\n",
       "ENSG00000137996   73.2166       0.232965 0.0755115   3.08516  0.00203443\n",
       "ENSG00000147202   31.0435      -0.367530 0.1191737  -3.08399  0.00204248\n",
       "                       padj\n",
       "                  <numeric>\n",
       "ENSG00000255823 9.54822e-08\n",
       "ENSG00000187193 2.58981e-05\n",
       "ENSG00000262902 2.58981e-05\n",
       "ENSG00000237973 2.65755e-04\n",
       "ENSG00000169715 3.71007e-04\n",
       "...                     ...\n",
       "ENSG00000147862   0.0493287\n",
       "ENSG00000135454   0.0494053\n",
       "ENSG00000125977   0.0498345\n",
       "ENSG00000137996   0.0498345\n",
       "ENSG00000147202   0.0499429"
      ]
     },
     "metadata": {},
     "output_type": "display_data"
    }
   ],
   "source": [
    "res <- results(DES, name = \"Disease_normal_vs_bipolar.disorder\", alpha = 0.05)\n",
    "res <- res[complete.cases(res), ]\n",
    "background <- res\n",
    "res <- res[res[, \"padj\"] < 0.05, ]\n",
    "res <- res[order(res$padj), ]\n",
    "res"
   ]
  },
  {
   "cell_type": "markdown",
   "metadata": {},
   "source": [
    "Теперь получили достаточно интересный результат - целых 564 дифференциально экспрессирующихся гена! Эти гены, как мы будем считать, будут показывать разницу между двумя группами (здоровых и больных людей).  \n",
    "Выведем названия некоторых из них:"
   ]
  },
  {
   "cell_type": "code",
   "execution_count": 15,
   "metadata": {},
   "outputs": [],
   "source": [
    "# самая большая библиотека согласно \n",
    "# https://shiring.github.io/genome/2016/10/23/AnnotationDbi\n",
    "suppressMessages(library(EnsDb.Hsapiens.v79))"
   ]
  },
  {
   "cell_type": "code",
   "execution_count": 16,
   "metadata": {},
   "outputs": [
    {
     "data": {
      "text/html": [
       "<table class=\"dataframe\">\n",
       "<caption>A data.frame: 30 × 2</caption>\n",
       "<thead>\n",
       "\t<tr><th></th><th scope=col>GENEID</th><th scope=col>SYMBOL</th></tr>\n",
       "\t<tr><th></th><th scope=col>&lt;chr&gt;</th><th scope=col>&lt;chr&gt;</th></tr>\n",
       "</thead>\n",
       "<tbody>\n",
       "\t<tr><th scope=row>1</th><td>ENSG00000255823</td><td>MTRNR2L8     </td></tr>\n",
       "\t<tr><th scope=row>2</th><td>ENSG00000187193</td><td>MT1X         </td></tr>\n",
       "\t<tr><th scope=row>3</th><td>ENSG00000262902</td><td>RP11-750B16.1</td></tr>\n",
       "\t<tr><th scope=row>4</th><td>ENSG00000237973</td><td>RP5-857K21.6 </td></tr>\n",
       "\t<tr><th scope=row>5</th><td>ENSG00000169715</td><td>MT1E         </td></tr>\n",
       "\t<tr><th scope=row>6</th><td>ENSG00000198417</td><td>MT1F         </td></tr>\n",
       "\t<tr><th scope=row>7</th><td>ENSG00000125144</td><td>MT1G         </td></tr>\n",
       "\t<tr><th scope=row>8</th><td>ENSG00000125148</td><td>MT2A         </td></tr>\n",
       "\t<tr><th scope=row>9</th><td>ENSG00000108848</td><td>LUC7L3       </td></tr>\n",
       "\t<tr><th scope=row>10</th><td>ENSG00000205364</td><td>MT1M         </td></tr>\n",
       "\t<tr><th scope=row>11</th><td>ENSG00000211459</td><td>MT-RNR1      </td></tr>\n",
       "\t<tr><th scope=row>12</th><td>ENSG00000123636</td><td>BAZ2B        </td></tr>\n",
       "\t<tr><th scope=row>13</th><td>ENSG00000170370</td><td>EMX2         </td></tr>\n",
       "\t<tr><th scope=row>14</th><td>ENSG00000170759</td><td>KIF5B        </td></tr>\n",
       "\t<tr><th scope=row>15</th><td>ENSG00000198695</td><td>MT-ND6       </td></tr>\n",
       "\t<tr><th scope=row>16</th><td>ENSG00000210049</td><td>MT-TF        </td></tr>\n",
       "\t<tr><th scope=row>17</th><td>ENSG00000235613</td><td>NSRP1P1      </td></tr>\n",
       "\t<tr><th scope=row>18</th><td>ENSG00000119684</td><td>MLH3         </td></tr>\n",
       "\t<tr><th scope=row>19</th><td>ENSG00000261609</td><td>GAN          </td></tr>\n",
       "\t<tr><th scope=row>20</th><td>ENSG00000096060</td><td>FKBP5        </td></tr>\n",
       "\t<tr><th scope=row>21</th><td>ENSG00000198399</td><td>ITSN2        </td></tr>\n",
       "\t<tr><th scope=row>22</th><td>ENSG00000251562</td><td>MALAT1       </td></tr>\n",
       "\t<tr><th scope=row>23</th><td>ENSG00000100941</td><td>PNN          </td></tr>\n",
       "\t<tr><th scope=row>24</th><td>ENSG00000112759</td><td>SLC29A1      </td></tr>\n",
       "\t<tr><th scope=row>25</th><td>ENSG00000115602</td><td>IL1RL1       </td></tr>\n",
       "\t<tr><th scope=row>26</th><td>ENSG00000144224</td><td>UBXN4        </td></tr>\n",
       "\t<tr><th scope=row>27</th><td>ENSG00000198157</td><td>HMGN5        </td></tr>\n",
       "\t<tr><th scope=row>28</th><td>ENSG00000116754</td><td>SRSF11       </td></tr>\n",
       "\t<tr><th scope=row>29</th><td>ENSG00000060339</td><td>CCAR1        </td></tr>\n",
       "\t<tr><th scope=row>30</th><td>ENSG00000073614</td><td>KDM5A        </td></tr>\n",
       "</tbody>\n",
       "</table>\n"
      ],
      "text/latex": [
       "A data.frame: 30 × 2\n",
       "\\begin{tabular}{r|ll}\n",
       "  & GENEID & SYMBOL\\\\\n",
       "  & <chr> & <chr>\\\\\n",
       "\\hline\n",
       "\t1 & ENSG00000255823 & MTRNR2L8     \\\\\n",
       "\t2 & ENSG00000187193 & MT1X         \\\\\n",
       "\t3 & ENSG00000262902 & RP11-750B16.1\\\\\n",
       "\t4 & ENSG00000237973 & RP5-857K21.6 \\\\\n",
       "\t5 & ENSG00000169715 & MT1E         \\\\\n",
       "\t6 & ENSG00000198417 & MT1F         \\\\\n",
       "\t7 & ENSG00000125144 & MT1G         \\\\\n",
       "\t8 & ENSG00000125148 & MT2A         \\\\\n",
       "\t9 & ENSG00000108848 & LUC7L3       \\\\\n",
       "\t10 & ENSG00000205364 & MT1M         \\\\\n",
       "\t11 & ENSG00000211459 & MT-RNR1      \\\\\n",
       "\t12 & ENSG00000123636 & BAZ2B        \\\\\n",
       "\t13 & ENSG00000170370 & EMX2         \\\\\n",
       "\t14 & ENSG00000170759 & KIF5B        \\\\\n",
       "\t15 & ENSG00000198695 & MT-ND6       \\\\\n",
       "\t16 & ENSG00000210049 & MT-TF        \\\\\n",
       "\t17 & ENSG00000235613 & NSRP1P1      \\\\\n",
       "\t18 & ENSG00000119684 & MLH3         \\\\\n",
       "\t19 & ENSG00000261609 & GAN          \\\\\n",
       "\t20 & ENSG00000096060 & FKBP5        \\\\\n",
       "\t21 & ENSG00000198399 & ITSN2        \\\\\n",
       "\t22 & ENSG00000251562 & MALAT1       \\\\\n",
       "\t23 & ENSG00000100941 & PNN          \\\\\n",
       "\t24 & ENSG00000112759 & SLC29A1      \\\\\n",
       "\t25 & ENSG00000115602 & IL1RL1       \\\\\n",
       "\t26 & ENSG00000144224 & UBXN4        \\\\\n",
       "\t27 & ENSG00000198157 & HMGN5        \\\\\n",
       "\t28 & ENSG00000116754 & SRSF11       \\\\\n",
       "\t29 & ENSG00000060339 & CCAR1        \\\\\n",
       "\t30 & ENSG00000073614 & KDM5A        \\\\\n",
       "\\end{tabular}\n"
      ],
      "text/markdown": [
       "\n",
       "A data.frame: 30 × 2\n",
       "\n",
       "| <!--/--> | GENEID &lt;chr&gt; | SYMBOL &lt;chr&gt; |\n",
       "|---|---|---|\n",
       "| 1 | ENSG00000255823 | MTRNR2L8      |\n",
       "| 2 | ENSG00000187193 | MT1X          |\n",
       "| 3 | ENSG00000262902 | RP11-750B16.1 |\n",
       "| 4 | ENSG00000237973 | RP5-857K21.6  |\n",
       "| 5 | ENSG00000169715 | MT1E          |\n",
       "| 6 | ENSG00000198417 | MT1F          |\n",
       "| 7 | ENSG00000125144 | MT1G          |\n",
       "| 8 | ENSG00000125148 | MT2A          |\n",
       "| 9 | ENSG00000108848 | LUC7L3        |\n",
       "| 10 | ENSG00000205364 | MT1M          |\n",
       "| 11 | ENSG00000211459 | MT-RNR1       |\n",
       "| 12 | ENSG00000123636 | BAZ2B         |\n",
       "| 13 | ENSG00000170370 | EMX2          |\n",
       "| 14 | ENSG00000170759 | KIF5B         |\n",
       "| 15 | ENSG00000198695 | MT-ND6        |\n",
       "| 16 | ENSG00000210049 | MT-TF         |\n",
       "| 17 | ENSG00000235613 | NSRP1P1       |\n",
       "| 18 | ENSG00000119684 | MLH3          |\n",
       "| 19 | ENSG00000261609 | GAN           |\n",
       "| 20 | ENSG00000096060 | FKBP5         |\n",
       "| 21 | ENSG00000198399 | ITSN2         |\n",
       "| 22 | ENSG00000251562 | MALAT1        |\n",
       "| 23 | ENSG00000100941 | PNN           |\n",
       "| 24 | ENSG00000112759 | SLC29A1       |\n",
       "| 25 | ENSG00000115602 | IL1RL1        |\n",
       "| 26 | ENSG00000144224 | UBXN4         |\n",
       "| 27 | ENSG00000198157 | HMGN5         |\n",
       "| 28 | ENSG00000116754 | SRSF11        |\n",
       "| 29 | ENSG00000060339 | CCAR1         |\n",
       "| 30 | ENSG00000073614 | KDM5A         |\n",
       "\n"
      ],
      "text/plain": [
       "   GENEID          SYMBOL       \n",
       "1  ENSG00000255823 MTRNR2L8     \n",
       "2  ENSG00000187193 MT1X         \n",
       "3  ENSG00000262902 RP11-750B16.1\n",
       "4  ENSG00000237973 RP5-857K21.6 \n",
       "5  ENSG00000169715 MT1E         \n",
       "6  ENSG00000198417 MT1F         \n",
       "7  ENSG00000125144 MT1G         \n",
       "8  ENSG00000125148 MT2A         \n",
       "9  ENSG00000108848 LUC7L3       \n",
       "10 ENSG00000205364 MT1M         \n",
       "11 ENSG00000211459 MT-RNR1      \n",
       "12 ENSG00000123636 BAZ2B        \n",
       "13 ENSG00000170370 EMX2         \n",
       "14 ENSG00000170759 KIF5B        \n",
       "15 ENSG00000198695 MT-ND6       \n",
       "16 ENSG00000210049 MT-TF        \n",
       "17 ENSG00000235613 NSRP1P1      \n",
       "18 ENSG00000119684 MLH3         \n",
       "19 ENSG00000261609 GAN          \n",
       "20 ENSG00000096060 FKBP5        \n",
       "21 ENSG00000198399 ITSN2        \n",
       "22 ENSG00000251562 MALAT1       \n",
       "23 ENSG00000100941 PNN          \n",
       "24 ENSG00000112759 SLC29A1      \n",
       "25 ENSG00000115602 IL1RL1       \n",
       "26 ENSG00000144224 UBXN4        \n",
       "27 ENSG00000198157 HMGN5        \n",
       "28 ENSG00000116754 SRSF11       \n",
       "29 ENSG00000060339 CCAR1        \n",
       "30 ENSG00000073614 KDM5A        "
      ]
     },
     "metadata": {},
     "output_type": "display_data"
    }
   ],
   "source": [
    "# для двух генов имена не нашлись :(\n",
    "gene_names <- ensembldb::select(EnsDb.Hsapiens.v79, \n",
    "                                     keys = rownames(res),\n",
    "                                     keytype = \"GENEID\", columns = c(\"GENEID\",\"SYMBOL\"))\n",
    "head(gene_names, 30)"
   ]
  },
  {
   "cell_type": "markdown",
   "metadata": {},
   "source": [
    "Для анализа в DAVID сохраним данные в файлы."
   ]
  },
  {
   "cell_type": "code",
   "execution_count": 38,
   "metadata": {},
   "outputs": [],
   "source": [
    "write(rownames(res), file = 'gene_names.txt')\n",
    "write(rownames(background), file = \"background.txt\")"
   ]
  },
  {
   "cell_type": "markdown",
   "metadata": {},
   "source": [
    "## Обработка данных после DAVID\n",
    "\n",
    "__Note:__ Для получения данных KEGG выбиралась лишь `KEGG_PATHWAY`. Для получения данных GO выбирались три предложенные (подсвеченные красным) опции: `GOTERM_BP_DIRECT`, `GOTERM_CC_DIRECT`, `GOTERM_MF_DIRECT`."
   ]
  },
  {
   "cell_type": "code",
   "execution_count": 17,
   "metadata": {},
   "outputs": [],
   "source": [
    "GO_data <- read.table(\"GO_data.txt\", sep = \"\\t\", header = T)\n",
    "KEGG_data <- read.delim('KEGG_data.txt', header = TRUE, sep = \"\\t\", dec = \".\")"
   ]
  },
  {
   "cell_type": "markdown",
   "metadata": {},
   "source": [
    "DAVID также использует поправку на множественное тестирование (аналогично \"независимой фильтрации\"). Поэтому воспользуемся отсечением по параметру `FDR` по порогу, указанному в статье: `FDR < 0.05`."
   ]
  },
  {
   "cell_type": "markdown",
   "metadata": {},
   "source": [
    "#### GO results"
   ]
  },
  {
   "cell_type": "code",
   "execution_count": 18,
   "metadata": {},
   "outputs": [
    {
     "data": {
      "text/html": [
       "<table class=\"dataframe\">\n",
       "<caption>A data.frame: 22 × 3</caption>\n",
       "<thead>\n",
       "\t<tr><th></th><th scope=col>Category</th><th scope=col>Term</th><th scope=col>FDR</th></tr>\n",
       "\t<tr><th></th><th scope=col>&lt;chr&gt;</th><th scope=col>&lt;chr&gt;</th><th scope=col>&lt;dbl&gt;</th></tr>\n",
       "</thead>\n",
       "<tbody>\n",
       "\t<tr><th scope=row>1</th><td>GOTERM_BP_DIRECT</td><td>GO:0006614~SRP-dependent cotranslational protein targeting to membrane        </td><td>1.486120e-20</td></tr>\n",
       "\t<tr><th scope=row>2</th><td>GOTERM_BP_DIRECT</td><td>GO:0000184~nuclear-transcribed mRNA catabolic process, nonsense-mediated decay</td><td>2.556487e-19</td></tr>\n",
       "\t<tr><th scope=row>3</th><td>GOTERM_BP_DIRECT</td><td>GO:0006413~translational initiation                                           </td><td>1.324775e-18</td></tr>\n",
       "\t<tr><th scope=row>4</th><td>GOTERM_BP_DIRECT</td><td>GO:0019083~viral transcription                                                </td><td>2.653548e-17</td></tr>\n",
       "\t<tr><th scope=row>5</th><td>GOTERM_MF_DIRECT</td><td>GO:0044822~poly(A) RNA binding                                                </td><td>2.333083e-15</td></tr>\n",
       "\t<tr><th scope=row>6</th><td>GOTERM_MF_DIRECT</td><td>GO:0003735~structural constituent of ribosome                                 </td><td>2.097143e-13</td></tr>\n",
       "\t<tr><th scope=row>7</th><td>GOTERM_CC_DIRECT</td><td>GO:0005840~ribosome                                                           </td><td>3.814434e-13</td></tr>\n",
       "\t<tr><th scope=row>8</th><td>GOTERM_BP_DIRECT</td><td>GO:0006364~rRNA processing                                                    </td><td>7.102159e-13</td></tr>\n",
       "\t<tr><th scope=row>9</th><td>GOTERM_BP_DIRECT</td><td>GO:0006412~translation                                                        </td><td>5.930576e-12</td></tr>\n",
       "\t<tr><th scope=row>10</th><td>GOTERM_CC_DIRECT</td><td>GO:0022625~cytosolic large ribosomal subunit                                  </td><td>2.607856e-11</td></tr>\n",
       "\t<tr><th scope=row>11</th><td>GOTERM_CC_DIRECT</td><td>GO:0022627~cytosolic small ribosomal subunit                                  </td><td>6.289889e-06</td></tr>\n",
       "\t<tr><th scope=row>12</th><td>GOTERM_CC_DIRECT</td><td>GO:0005654~nucleoplasm                                                        </td><td>9.031847e-04</td></tr>\n",
       "\t<tr><th scope=row>13</th><td>GOTERM_CC_DIRECT</td><td>GO:0016607~nuclear speck                                                      </td><td>1.110786e-03</td></tr>\n",
       "\t<tr><th scope=row>14</th><td>GOTERM_CC_DIRECT</td><td>GO:0015935~small ribosomal subunit                                            </td><td>2.983733e-03</td></tr>\n",
       "\t<tr><th scope=row>17</th><td>GOTERM_CC_DIRECT</td><td>GO:0070469~respiratory chain                                                  </td><td>4.343098e-03</td></tr>\n",
       "\t<tr><th scope=row>15</th><td>GOTERM_MF_DIRECT</td><td>GO:0003723~RNA binding                                                        </td><td>1.227785e-02</td></tr>\n",
       "\t<tr><th scope=row>16</th><td>GOTERM_BP_DIRECT</td><td>GO:0045926~negative regulation of growth                                      </td><td>1.810910e-02</td></tr>\n",
       "\t<tr><th scope=row>18</th><td>GOTERM_BP_DIRECT</td><td>GO:0071294~cellular response to zinc ion                                      </td><td>2.489137e-02</td></tr>\n",
       "\t<tr><th scope=row>19</th><td>GOTERM_BP_DIRECT</td><td>GO:0071276~cellular response to cadmium ion                                   </td><td>3.327260e-02</td></tr>\n",
       "\t<tr><th scope=row>22</th><td>GOTERM_MF_DIRECT</td><td>GO:0097100~supercoiled DNA binding                                            </td><td>3.783394e-02</td></tr>\n",
       "\t<tr><th scope=row>20</th><td>GOTERM_BP_DIRECT</td><td>GO:0008380~RNA splicing                                                       </td><td>3.882044e-02</td></tr>\n",
       "\t<tr><th scope=row>21</th><td>GOTERM_BP_DIRECT</td><td>GO:0002181~cytoplasmic translation                                            </td><td>4.147785e-02</td></tr>\n",
       "</tbody>\n",
       "</table>\n"
      ],
      "text/latex": [
       "A data.frame: 22 × 3\n",
       "\\begin{tabular}{r|lll}\n",
       "  & Category & Term & FDR\\\\\n",
       "  & <chr> & <chr> & <dbl>\\\\\n",
       "\\hline\n",
       "\t1 & GOTERM\\_BP\\_DIRECT & GO:0006614\\textasciitilde{}SRP-dependent cotranslational protein targeting to membrane         & 1.486120e-20\\\\\n",
       "\t2 & GOTERM\\_BP\\_DIRECT & GO:0000184\\textasciitilde{}nuclear-transcribed mRNA catabolic process, nonsense-mediated decay & 2.556487e-19\\\\\n",
       "\t3 & GOTERM\\_BP\\_DIRECT & GO:0006413\\textasciitilde{}translational initiation                                            & 1.324775e-18\\\\\n",
       "\t4 & GOTERM\\_BP\\_DIRECT & GO:0019083\\textasciitilde{}viral transcription                                                 & 2.653548e-17\\\\\n",
       "\t5 & GOTERM\\_MF\\_DIRECT & GO:0044822\\textasciitilde{}poly(A) RNA binding                                                 & 2.333083e-15\\\\\n",
       "\t6 & GOTERM\\_MF\\_DIRECT & GO:0003735\\textasciitilde{}structural constituent of ribosome                                  & 2.097143e-13\\\\\n",
       "\t7 & GOTERM\\_CC\\_DIRECT & GO:0005840\\textasciitilde{}ribosome                                                            & 3.814434e-13\\\\\n",
       "\t8 & GOTERM\\_BP\\_DIRECT & GO:0006364\\textasciitilde{}rRNA processing                                                     & 7.102159e-13\\\\\n",
       "\t9 & GOTERM\\_BP\\_DIRECT & GO:0006412\\textasciitilde{}translation                                                         & 5.930576e-12\\\\\n",
       "\t10 & GOTERM\\_CC\\_DIRECT & GO:0022625\\textasciitilde{}cytosolic large ribosomal subunit                                   & 2.607856e-11\\\\\n",
       "\t11 & GOTERM\\_CC\\_DIRECT & GO:0022627\\textasciitilde{}cytosolic small ribosomal subunit                                   & 6.289889e-06\\\\\n",
       "\t12 & GOTERM\\_CC\\_DIRECT & GO:0005654\\textasciitilde{}nucleoplasm                                                         & 9.031847e-04\\\\\n",
       "\t13 & GOTERM\\_CC\\_DIRECT & GO:0016607\\textasciitilde{}nuclear speck                                                       & 1.110786e-03\\\\\n",
       "\t14 & GOTERM\\_CC\\_DIRECT & GO:0015935\\textasciitilde{}small ribosomal subunit                                             & 2.983733e-03\\\\\n",
       "\t17 & GOTERM\\_CC\\_DIRECT & GO:0070469\\textasciitilde{}respiratory chain                                                   & 4.343098e-03\\\\\n",
       "\t15 & GOTERM\\_MF\\_DIRECT & GO:0003723\\textasciitilde{}RNA binding                                                         & 1.227785e-02\\\\\n",
       "\t16 & GOTERM\\_BP\\_DIRECT & GO:0045926\\textasciitilde{}negative regulation of growth                                       & 1.810910e-02\\\\\n",
       "\t18 & GOTERM\\_BP\\_DIRECT & GO:0071294\\textasciitilde{}cellular response to zinc ion                                       & 2.489137e-02\\\\\n",
       "\t19 & GOTERM\\_BP\\_DIRECT & GO:0071276\\textasciitilde{}cellular response to cadmium ion                                    & 3.327260e-02\\\\\n",
       "\t22 & GOTERM\\_MF\\_DIRECT & GO:0097100\\textasciitilde{}supercoiled DNA binding                                             & 3.783394e-02\\\\\n",
       "\t20 & GOTERM\\_BP\\_DIRECT & GO:0008380\\textasciitilde{}RNA splicing                                                        & 3.882044e-02\\\\\n",
       "\t21 & GOTERM\\_BP\\_DIRECT & GO:0002181\\textasciitilde{}cytoplasmic translation                                             & 4.147785e-02\\\\\n",
       "\\end{tabular}\n"
      ],
      "text/markdown": [
       "\n",
       "A data.frame: 22 × 3\n",
       "\n",
       "| <!--/--> | Category &lt;chr&gt; | Term &lt;chr&gt; | FDR &lt;dbl&gt; |\n",
       "|---|---|---|---|\n",
       "| 1 | GOTERM_BP_DIRECT | GO:0006614~SRP-dependent cotranslational protein targeting to membrane         | 1.486120e-20 |\n",
       "| 2 | GOTERM_BP_DIRECT | GO:0000184~nuclear-transcribed mRNA catabolic process, nonsense-mediated decay | 2.556487e-19 |\n",
       "| 3 | GOTERM_BP_DIRECT | GO:0006413~translational initiation                                            | 1.324775e-18 |\n",
       "| 4 | GOTERM_BP_DIRECT | GO:0019083~viral transcription                                                 | 2.653548e-17 |\n",
       "| 5 | GOTERM_MF_DIRECT | GO:0044822~poly(A) RNA binding                                                 | 2.333083e-15 |\n",
       "| 6 | GOTERM_MF_DIRECT | GO:0003735~structural constituent of ribosome                                  | 2.097143e-13 |\n",
       "| 7 | GOTERM_CC_DIRECT | GO:0005840~ribosome                                                            | 3.814434e-13 |\n",
       "| 8 | GOTERM_BP_DIRECT | GO:0006364~rRNA processing                                                     | 7.102159e-13 |\n",
       "| 9 | GOTERM_BP_DIRECT | GO:0006412~translation                                                         | 5.930576e-12 |\n",
       "| 10 | GOTERM_CC_DIRECT | GO:0022625~cytosolic large ribosomal subunit                                   | 2.607856e-11 |\n",
       "| 11 | GOTERM_CC_DIRECT | GO:0022627~cytosolic small ribosomal subunit                                   | 6.289889e-06 |\n",
       "| 12 | GOTERM_CC_DIRECT | GO:0005654~nucleoplasm                                                         | 9.031847e-04 |\n",
       "| 13 | GOTERM_CC_DIRECT | GO:0016607~nuclear speck                                                       | 1.110786e-03 |\n",
       "| 14 | GOTERM_CC_DIRECT | GO:0015935~small ribosomal subunit                                             | 2.983733e-03 |\n",
       "| 17 | GOTERM_CC_DIRECT | GO:0070469~respiratory chain                                                   | 4.343098e-03 |\n",
       "| 15 | GOTERM_MF_DIRECT | GO:0003723~RNA binding                                                         | 1.227785e-02 |\n",
       "| 16 | GOTERM_BP_DIRECT | GO:0045926~negative regulation of growth                                       | 1.810910e-02 |\n",
       "| 18 | GOTERM_BP_DIRECT | GO:0071294~cellular response to zinc ion                                       | 2.489137e-02 |\n",
       "| 19 | GOTERM_BP_DIRECT | GO:0071276~cellular response to cadmium ion                                    | 3.327260e-02 |\n",
       "| 22 | GOTERM_MF_DIRECT | GO:0097100~supercoiled DNA binding                                             | 3.783394e-02 |\n",
       "| 20 | GOTERM_BP_DIRECT | GO:0008380~RNA splicing                                                        | 3.882044e-02 |\n",
       "| 21 | GOTERM_BP_DIRECT | GO:0002181~cytoplasmic translation                                             | 4.147785e-02 |\n",
       "\n"
      ],
      "text/plain": [
       "   Category        \n",
       "1  GOTERM_BP_DIRECT\n",
       "2  GOTERM_BP_DIRECT\n",
       "3  GOTERM_BP_DIRECT\n",
       "4  GOTERM_BP_DIRECT\n",
       "5  GOTERM_MF_DIRECT\n",
       "6  GOTERM_MF_DIRECT\n",
       "7  GOTERM_CC_DIRECT\n",
       "8  GOTERM_BP_DIRECT\n",
       "9  GOTERM_BP_DIRECT\n",
       "10 GOTERM_CC_DIRECT\n",
       "11 GOTERM_CC_DIRECT\n",
       "12 GOTERM_CC_DIRECT\n",
       "13 GOTERM_CC_DIRECT\n",
       "14 GOTERM_CC_DIRECT\n",
       "17 GOTERM_CC_DIRECT\n",
       "15 GOTERM_MF_DIRECT\n",
       "16 GOTERM_BP_DIRECT\n",
       "18 GOTERM_BP_DIRECT\n",
       "19 GOTERM_BP_DIRECT\n",
       "22 GOTERM_MF_DIRECT\n",
       "20 GOTERM_BP_DIRECT\n",
       "21 GOTERM_BP_DIRECT\n",
       "   Term                                                                          \n",
       "1  GO:0006614~SRP-dependent cotranslational protein targeting to membrane        \n",
       "2  GO:0000184~nuclear-transcribed mRNA catabolic process, nonsense-mediated decay\n",
       "3  GO:0006413~translational initiation                                           \n",
       "4  GO:0019083~viral transcription                                                \n",
       "5  GO:0044822~poly(A) RNA binding                                                \n",
       "6  GO:0003735~structural constituent of ribosome                                 \n",
       "7  GO:0005840~ribosome                                                           \n",
       "8  GO:0006364~rRNA processing                                                    \n",
       "9  GO:0006412~translation                                                        \n",
       "10 GO:0022625~cytosolic large ribosomal subunit                                  \n",
       "11 GO:0022627~cytosolic small ribosomal subunit                                  \n",
       "12 GO:0005654~nucleoplasm                                                        \n",
       "13 GO:0016607~nuclear speck                                                      \n",
       "14 GO:0015935~small ribosomal subunit                                            \n",
       "17 GO:0070469~respiratory chain                                                  \n",
       "15 GO:0003723~RNA binding                                                        \n",
       "16 GO:0045926~negative regulation of growth                                      \n",
       "18 GO:0071294~cellular response to zinc ion                                      \n",
       "19 GO:0071276~cellular response to cadmium ion                                   \n",
       "22 GO:0097100~supercoiled DNA binding                                            \n",
       "20 GO:0008380~RNA splicing                                                       \n",
       "21 GO:0002181~cytoplasmic translation                                            \n",
       "   FDR         \n",
       "1  1.486120e-20\n",
       "2  2.556487e-19\n",
       "3  1.324775e-18\n",
       "4  2.653548e-17\n",
       "5  2.333083e-15\n",
       "6  2.097143e-13\n",
       "7  3.814434e-13\n",
       "8  7.102159e-13\n",
       "9  5.930576e-12\n",
       "10 2.607856e-11\n",
       "11 6.289889e-06\n",
       "12 9.031847e-04\n",
       "13 1.110786e-03\n",
       "14 2.983733e-03\n",
       "17 4.343098e-03\n",
       "15 1.227785e-02\n",
       "16 1.810910e-02\n",
       "18 2.489137e-02\n",
       "19 3.327260e-02\n",
       "22 3.783394e-02\n",
       "20 3.882044e-02\n",
       "21 4.147785e-02"
      ]
     },
     "metadata": {},
     "output_type": "display_data"
    }
   ],
   "source": [
    "GO_best <- GO_data[GO_data$FDR < 0.05, c(\"Category\", \"Term\", \"FDR\")]\n",
    "GO_best <- GO_best[order(GO_best$FDR), ]\n",
    "GO_best"
   ]
  },
  {
   "cell_type": "markdown",
   "metadata": {},
   "source": [
    "#### KEGG results"
   ]
  },
  {
   "cell_type": "code",
   "execution_count": 19,
   "metadata": {},
   "outputs": [
    {
     "data": {
      "text/html": [
       "<table class=\"dataframe\">\n",
       "<caption>A data.frame: 6 × 3</caption>\n",
       "<thead>\n",
       "\t<tr><th></th><th scope=col>Category</th><th scope=col>Term</th><th scope=col>FDR</th></tr>\n",
       "\t<tr><th></th><th scope=col>&lt;chr&gt;</th><th scope=col>&lt;chr&gt;</th><th scope=col>&lt;dbl&gt;</th></tr>\n",
       "</thead>\n",
       "<tbody>\n",
       "\t<tr><th scope=row>1</th><td>KEGG_PATHWAY</td><td>hsa03010:Ribosome                 </td><td>1.466400e-16</td></tr>\n",
       "\t<tr><th scope=row>2</th><td>KEGG_PATHWAY</td><td>hsa00190:Oxidative phosphorylation</td><td>4.367678e-01</td></tr>\n",
       "\t<tr><th scope=row>3</th><td>KEGG_PATHWAY</td><td>hsa04978:Mineral absorption       </td><td>5.180254e-01</td></tr>\n",
       "\t<tr><th scope=row>4</th><td>KEGG_PATHWAY</td><td>hsa03040:Spliceosome              </td><td>9.305647e-01</td></tr>\n",
       "\t<tr><th scope=row>5</th><td>KEGG_PATHWAY</td><td>hsa05012:Parkinson's disease      </td><td>1.000000e+00</td></tr>\n",
       "\t<tr><th scope=row>6</th><td>KEGG_PATHWAY</td><td>hsa03060:Protein export           </td><td>1.000000e+00</td></tr>\n",
       "</tbody>\n",
       "</table>\n"
      ],
      "text/latex": [
       "A data.frame: 6 × 3\n",
       "\\begin{tabular}{r|lll}\n",
       "  & Category & Term & FDR\\\\\n",
       "  & <chr> & <chr> & <dbl>\\\\\n",
       "\\hline\n",
       "\t1 & KEGG\\_PATHWAY & hsa03010:Ribosome                  & 1.466400e-16\\\\\n",
       "\t2 & KEGG\\_PATHWAY & hsa00190:Oxidative phosphorylation & 4.367678e-01\\\\\n",
       "\t3 & KEGG\\_PATHWAY & hsa04978:Mineral absorption        & 5.180254e-01\\\\\n",
       "\t4 & KEGG\\_PATHWAY & hsa03040:Spliceosome               & 9.305647e-01\\\\\n",
       "\t5 & KEGG\\_PATHWAY & hsa05012:Parkinson's disease       & 1.000000e+00\\\\\n",
       "\t6 & KEGG\\_PATHWAY & hsa03060:Protein export            & 1.000000e+00\\\\\n",
       "\\end{tabular}\n"
      ],
      "text/markdown": [
       "\n",
       "A data.frame: 6 × 3\n",
       "\n",
       "| <!--/--> | Category &lt;chr&gt; | Term &lt;chr&gt; | FDR &lt;dbl&gt; |\n",
       "|---|---|---|---|\n",
       "| 1 | KEGG_PATHWAY | hsa03010:Ribosome                  | 1.466400e-16 |\n",
       "| 2 | KEGG_PATHWAY | hsa00190:Oxidative phosphorylation | 4.367678e-01 |\n",
       "| 3 | KEGG_PATHWAY | hsa04978:Mineral absorption        | 5.180254e-01 |\n",
       "| 4 | KEGG_PATHWAY | hsa03040:Spliceosome               | 9.305647e-01 |\n",
       "| 5 | KEGG_PATHWAY | hsa05012:Parkinson's disease       | 1.000000e+00 |\n",
       "| 6 | KEGG_PATHWAY | hsa03060:Protein export            | 1.000000e+00 |\n",
       "\n"
      ],
      "text/plain": [
       "  Category     Term                               FDR         \n",
       "1 KEGG_PATHWAY hsa03010:Ribosome                  1.466400e-16\n",
       "2 KEGG_PATHWAY hsa00190:Oxidative phosphorylation 4.367678e-01\n",
       "3 KEGG_PATHWAY hsa04978:Mineral absorption        5.180254e-01\n",
       "4 KEGG_PATHWAY hsa03040:Spliceosome               9.305647e-01\n",
       "5 KEGG_PATHWAY hsa05012:Parkinson's disease       1.000000e+00\n",
       "6 KEGG_PATHWAY hsa03060:Protein export            1.000000e+00"
      ]
     },
     "metadata": {},
     "output_type": "display_data"
    }
   ],
   "source": [
    "KEGG_data <- KEGG_data[order(KEGG_data$FDR), c(\"Category\", \"Term\", \"FDR\")]\n",
    "KEGG_data"
   ]
  },
  {
   "cell_type": "code",
   "execution_count": 20,
   "metadata": {},
   "outputs": [
    {
     "data": {
      "text/html": [
       "<table class=\"dataframe\">\n",
       "<caption>A data.frame: 1 × 3</caption>\n",
       "<thead>\n",
       "\t<tr><th></th><th scope=col>Category</th><th scope=col>Term</th><th scope=col>FDR</th></tr>\n",
       "\t<tr><th></th><th scope=col>&lt;chr&gt;</th><th scope=col>&lt;chr&gt;</th><th scope=col>&lt;dbl&gt;</th></tr>\n",
       "</thead>\n",
       "<tbody>\n",
       "\t<tr><th scope=row>1</th><td>KEGG_PATHWAY</td><td>hsa03010:Ribosome</td><td>1.4664e-16</td></tr>\n",
       "</tbody>\n",
       "</table>\n"
      ],
      "text/latex": [
       "A data.frame: 1 × 3\n",
       "\\begin{tabular}{r|lll}\n",
       "  & Category & Term & FDR\\\\\n",
       "  & <chr> & <chr> & <dbl>\\\\\n",
       "\\hline\n",
       "\t1 & KEGG\\_PATHWAY & hsa03010:Ribosome & 1.4664e-16\\\\\n",
       "\\end{tabular}\n"
      ],
      "text/markdown": [
       "\n",
       "A data.frame: 1 × 3\n",
       "\n",
       "| <!--/--> | Category &lt;chr&gt; | Term &lt;chr&gt; | FDR &lt;dbl&gt; |\n",
       "|---|---|---|---|\n",
       "| 1 | KEGG_PATHWAY | hsa03010:Ribosome | 1.4664e-16 |\n",
       "\n"
      ],
      "text/plain": [
       "  Category     Term              FDR       \n",
       "1 KEGG_PATHWAY hsa03010:Ribosome 1.4664e-16"
      ]
     },
     "metadata": {},
     "output_type": "display_data"
    }
   ],
   "source": [
    "KEGG_best <- KEGG_data[KEGG_data$FDR < 0.05, ]\n",
    "KEGG_best"
   ]
  },
  {
   "cell_type": "markdown",
   "metadata": {},
   "source": [
    "# FGSEA-анализ обогащенности\n",
    "\n",
    "## Подготовительные действия"
   ]
  },
  {
   "cell_type": "code",
   "execution_count": 24,
   "metadata": {},
   "outputs": [
    {
     "name": "stdout",
     "output_type": "stream",
     "text": [
      "package 'fgsea' successfully unpacked and MD5 sums checked\n",
      "\n",
      "The downloaded binary packages are in\n",
      "\tC:\\Users\\Олекек\\AppData\\Local\\Temp\\Rtmpycu11V\\downloaded_packages\n"
     ]
    }
   ],
   "source": [
    "suppressMessages(BiocManager::install(\"fgsea\"))"
   ]
  },
  {
   "cell_type": "code",
   "execution_count": 21,
   "metadata": {},
   "outputs": [],
   "source": [
    "library('fgsea')"
   ]
  },
  {
   "cell_type": "markdown",
   "metadata": {},
   "source": [
    "Соберем более полный датасет - добавим названия генов в формате HGNC и Entrez Gene ID. Здесь уже воспользуемся другой библиотекой, которая содержит в себе больше именно `entrez` значений, все так же согласно [этому](https://shiring.github.io/genome/2016/10/23/AnnotationDbi) источнику."
   ]
  },
  {
   "cell_type": "code",
   "execution_count": 23,
   "metadata": {},
   "outputs": [
    {
     "data": {
      "text/plain": [
       "log2 fold change (MLE): Disease normal vs bipolar.disorder \n",
       "Wald test p-value: Disease normal vs bipolar.disorder \n",
       "DataFrame with 531 rows and 8 columns\n",
       "                 baseMean log2FoldChange     lfcSE      stat      pvalue\n",
       "                <numeric>      <numeric> <numeric> <numeric>   <numeric>\n",
       "ENSG00000255823   28.2630       -5.01106  0.730558  -6.85922 6.92351e-12\n",
       "ENSG00000187193   51.0694       -2.20647  0.378216  -5.83390 5.41478e-09\n",
       "ENSG00000262902   48.9828       -3.38750  0.581318  -5.82728 5.63369e-09\n",
       "ENSG00000237973  393.3385       -1.55862  0.290039  -5.37383 7.70808e-08\n",
       "ENSG00000169715  183.5905       -1.26831  0.241224  -5.25782 1.45772e-07\n",
       "...                   ...            ...       ...       ...         ...\n",
       "ENSG00000147862  431.1041      -0.345581 0.1118464  -3.08978  0.00200305\n",
       "ENSG00000135454  168.6610       0.334071 0.1081560   3.08879  0.00200974\n",
       "ENSG00000125977  240.2973      -0.352862 0.1143572  -3.08561  0.00203134\n",
       "ENSG00000137996   73.2166       0.232965 0.0755115   3.08516  0.00203443\n",
       "ENSG00000147202   31.0435      -0.367530 0.1191737  -3.08399  0.00204248\n",
       "                       padj      symbol      entrez\n",
       "                  <numeric> <character> <character>\n",
       "ENSG00000255823 9.54822e-08    MTRNR2L8   100463486\n",
       "ENSG00000187193 2.58981e-05        MT1X        4501\n",
       "ENSG00000262902 2.58981e-05    MTCO1P40   107075172\n",
       "ENSG00000237973 2.65755e-04    MTCO1P12   107075141\n",
       "ENSG00000169715 3.71007e-04        MT1E        4493\n",
       "...                     ...         ...         ...\n",
       "ENSG00000147862   0.0493287        NFIB        4781\n",
       "ENSG00000135454   0.0494053    B4GALNT1        2583\n",
       "ENSG00000125977   0.0498345      EIF2S2        8894\n",
       "ENSG00000137996   0.0498345        RTCA        8634\n",
       "ENSG00000147202   0.0499429      DIAPH2        1730"
      ]
     },
     "metadata": {},
     "output_type": "display_data"
    }
   ],
   "source": [
    "library(\"AnnotationDbi\")\n",
    "library(\"org.Hs.eg.db\")\n",
    "\n",
    "res$symbol = suppressMessages(mapIds(org.Hs.eg.db,\n",
    "                     keys=row.names(res), \n",
    "                     column=\"SYMBOL\",\n",
    "                     keytype=\"ENSEMBL\",\n",
    "                     multiVals=\"first\"))\n",
    "\n",
    "res$entrez = suppressMessages(mapIds(org.Hs.eg.db,\n",
    "                     keys=row.names(res), \n",
    "                     column=\"ENTREZID\",\n",
    "                     keytype=\"ENSEMBL\",\n",
    "                     multiVals=\"first\"))\n",
    "\n",
    "res <- res[!is.na(res$entrez), ]\n",
    "res"
   ]
  },
  {
   "cell_type": "markdown",
   "metadata": {},
   "source": [
    "Загрузим также датасеты, которые нам понадобятся: pathways для KEGG и GO."
   ]
  },
  {
   "cell_type": "code",
   "execution_count": 20,
   "metadata": {},
   "outputs": [],
   "source": [
    "suppressMessages(BiocManager::install(\"gageData\"))"
   ]
  },
  {
   "cell_type": "code",
   "execution_count": 24,
   "metadata": {},
   "outputs": [],
   "source": [
    "library(gageData)\n",
    "data(kegg.sets.hs)\n",
    "data(go.sets.hs)"
   ]
  },
  {
   "cell_type": "markdown",
   "metadata": {},
   "source": [
    "## fgsea usage"
   ]
  },
  {
   "cell_type": "markdown",
   "metadata": {},
   "source": [
    "Для того, чтобы использовать одноименную функцию `fgsea`, необходимо составить таблицу с ранжированными генами (где их названия будут уже в формате `entrez`). Каждому гену сопоставляется среднее по столбцу `res$stat`, если встречались одинаковые гены (в нашем случае это не так), а затем сортируется в порядке возрастания."
   ]
  },
  {
   "cell_type": "code",
   "execution_count": 25,
   "metadata": {},
   "outputs": [
    {
     "data": {
      "text/html": [
       "<style>\n",
       ".dl-inline {width: auto; margin:0; padding: 0}\n",
       ".dl-inline>dt, .dl-inline>dd {float: none; width: auto; display: inline-block}\n",
       ".dl-inline>dt::after {content: \":\\0020\"; padding-right: .5ex}\n",
       ".dl-inline>dt:not(:first-of-type) {padding-left: .5ex}\n",
       "</style><dl class=dl-inline><dt>100463486</dt><dd>-6.85922499154176</dd><dt>4501</dt><dd>-5.83389622503402</dd><dt>107075172</dt><dd>-5.82728340881646</dd><dt>107075141</dt><dd>-5.37383167405416</dd><dt>4493</dt><dd>-5.25782087211133</dd><dt>4494</dt><dd>-5.23904148331382</dd></dl>\n"
      ],
      "text/latex": [
       "\\begin{description*}\n",
       "\\item[100463486] -6.85922499154176\n",
       "\\item[4501] -5.83389622503402\n",
       "\\item[107075172] -5.82728340881646\n",
       "\\item[107075141] -5.37383167405416\n",
       "\\item[4493] -5.25782087211133\n",
       "\\item[4494] -5.23904148331382\n",
       "\\end{description*}\n"
      ],
      "text/markdown": [
       "100463486\n",
       ":   -6.859224991541764501\n",
       ":   -5.83389622503402107075172\n",
       ":   -5.82728340881646107075141\n",
       ":   -5.373831674054164493\n",
       ":   -5.257820872111334494\n",
       ":   -5.23904148331382\n",
       "\n"
      ],
      "text/plain": [
       "100463486      4501 107075172 107075141      4493      4494 \n",
       "-6.859225 -5.833896 -5.827283 -5.373832 -5.257821 -5.239041 "
      ]
     },
     "metadata": {},
     "output_type": "display_data"
    }
   ],
   "source": [
    "ranks <- aggregate(stat~entrez, data = res, FUN = 'mean')\n",
    "ranks <- ranks[order(ranks$stat), ]\n",
    "\n",
    "# conversion to named vector\n",
    "ranks <- setNames(res$stat, res$entrez)\n",
    "head(ranks)"
   ]
  },
  {
   "cell_type": "markdown",
   "metadata": {},
   "source": [
    "### KEGG analysis"
   ]
  },
  {
   "cell_type": "code",
   "execution_count": 26,
   "metadata": {},
   "outputs": [],
   "source": [
    "KEGG_res <- fgsea(pathway = kegg.sets.hs, stats = ranks, \n",
    "                  scoreType = \"pos\", \n",
    "                  nperm = 3000)"
   ]
  },
  {
   "cell_type": "code",
   "execution_count": 27,
   "metadata": {},
   "outputs": [
    {
     "data": {
      "text/html": [
       "<table class=\"dataframe\">\n",
       "<caption>A data.table: 4 × 8</caption>\n",
       "<thead>\n",
       "\t<tr><th scope=col>pathway</th><th scope=col>pval</th><th scope=col>padj</th><th scope=col>ES</th><th scope=col>NES</th><th scope=col>nMoreExtreme</th><th scope=col>size</th><th scope=col>leadingEdge</th></tr>\n",
       "\t<tr><th scope=col>&lt;chr&gt;</th><th scope=col>&lt;dbl&gt;</th><th scope=col>&lt;dbl&gt;</th><th scope=col>&lt;dbl&gt;</th><th scope=col>&lt;dbl&gt;</th><th scope=col>&lt;dbl&gt;</th><th scope=col>&lt;int&gt;</th><th scope=col>&lt;list&gt;</th></tr>\n",
       "</thead>\n",
       "<tbody>\n",
       "\t<tr><td>hsa01100 Metabolic pathways                                    </td><td>0.0009996668</td><td>0.03523825</td><td>0.3093807</td><td>3.618189</td><td>2</td><td>32</td><td>5315  , 9114  , 10554 , 2026  , 211   , 9791  , 2805  , 3098  , 80146 , 254531, 4191  , 4705  , 537   , 8703  , 1431  , 2583  , 3030  , 56898 </td></tr>\n",
       "\t<tr><td>hsa05412 Arrhythmogenic right ventricular cardiomyopathy (ARVC)</td><td>0.0006664445</td><td>0.03523825</td><td>0.9034091</td><td>3.001485</td><td>1</td><td> 3</td><td>782  , 10368, 488  </td></tr>\n",
       "\t<tr><td>hsa00564 Glycerophospholipid metabolism                        </td><td>0.0009996668</td><td>0.03523825</td><td>0.8806818</td><td>2.925976</td><td>2</td><td> 3</td><td>10554 , 9791  , 254531</td></tr>\n",
       "\t<tr><td>hsa05410 Hypertrophic cardiomyopathy (HCM)                     </td><td>0.0006664445</td><td>0.03523825</td><td>0.9034091</td><td>3.001485</td><td>1</td><td> 3</td><td>782  , 10368, 488  </td></tr>\n",
       "</tbody>\n",
       "</table>\n"
      ],
      "text/latex": [
       "A data.table: 4 × 8\n",
       "\\begin{tabular}{llllllll}\n",
       " pathway & pval & padj & ES & NES & nMoreExtreme & size & leadingEdge\\\\\n",
       " <chr> & <dbl> & <dbl> & <dbl> & <dbl> & <dbl> & <int> & <list>\\\\\n",
       "\\hline\n",
       "\t hsa01100 Metabolic pathways                                     & 0.0009996668 & 0.03523825 & 0.3093807 & 3.618189 & 2 & 32 & 5315  , 9114  , 10554 , 2026  , 211   , 9791  , 2805  , 3098  , 80146 , 254531, 4191  , 4705  , 537   , 8703  , 1431  , 2583  , 3030  , 56898 \\\\\n",
       "\t hsa05412 Arrhythmogenic right ventricular cardiomyopathy (ARVC) & 0.0006664445 & 0.03523825 & 0.9034091 & 3.001485 & 1 &  3 & 782  , 10368, 488  \\\\\n",
       "\t hsa00564 Glycerophospholipid metabolism                         & 0.0009996668 & 0.03523825 & 0.8806818 & 2.925976 & 2 &  3 & 10554 , 9791  , 254531\\\\\n",
       "\t hsa05410 Hypertrophic cardiomyopathy (HCM)                      & 0.0006664445 & 0.03523825 & 0.9034091 & 3.001485 & 1 &  3 & 782  , 10368, 488  \\\\\n",
       "\\end{tabular}\n"
      ],
      "text/markdown": [
       "\n",
       "A data.table: 4 × 8\n",
       "\n",
       "| pathway &lt;chr&gt; | pval &lt;dbl&gt; | padj &lt;dbl&gt; | ES &lt;dbl&gt; | NES &lt;dbl&gt; | nMoreExtreme &lt;dbl&gt; | size &lt;int&gt; | leadingEdge &lt;list&gt; |\n",
       "|---|---|---|---|---|---|---|---|\n",
       "| hsa01100 Metabolic pathways                                     | 0.0009996668 | 0.03523825 | 0.3093807 | 3.618189 | 2 | 32 | 5315  , 9114  , 10554 , 2026  , 211   , 9791  , 2805  , 3098  , 80146 , 254531, 4191  , 4705  , 537   , 8703  , 1431  , 2583  , 3030  , 56898  |\n",
       "| hsa05412 Arrhythmogenic right ventricular cardiomyopathy (ARVC) | 0.0006664445 | 0.03523825 | 0.9034091 | 3.001485 | 1 |  3 | 782  , 10368, 488   |\n",
       "| hsa00564 Glycerophospholipid metabolism                         | 0.0009996668 | 0.03523825 | 0.8806818 | 2.925976 | 2 |  3 | 10554 , 9791  , 254531 |\n",
       "| hsa05410 Hypertrophic cardiomyopathy (HCM)                      | 0.0006664445 | 0.03523825 | 0.9034091 | 3.001485 | 1 |  3 | 782  , 10368, 488   |\n",
       "\n"
      ],
      "text/plain": [
       "  pathway                                                         pval        \n",
       "1 hsa01100 Metabolic pathways                                     0.0009996668\n",
       "2 hsa05412 Arrhythmogenic right ventricular cardiomyopathy (ARVC) 0.0006664445\n",
       "3 hsa00564 Glycerophospholipid metabolism                         0.0009996668\n",
       "4 hsa05410 Hypertrophic cardiomyopathy (HCM)                      0.0006664445\n",
       "  padj       ES        NES      nMoreExtreme size\n",
       "1 0.03523825 0.3093807 3.618189 2            32  \n",
       "2 0.03523825 0.9034091 3.001485 1             3  \n",
       "3 0.03523825 0.8806818 2.925976 2             3  \n",
       "4 0.03523825 0.9034091 3.001485 1             3  \n",
       "  leadingEdge                                                                                                                                   \n",
       "1 5315  , 9114  , 10554 , 2026  , 211   , 9791  , 2805  , 3098  , 80146 , 254531, 4191  , 4705  , 537   , 8703  , 1431  , 2583  , 3030  , 56898 \n",
       "2 782  , 10368, 488                                                                                                                             \n",
       "3 10554 , 9791  , 254531                                                                                                                        \n",
       "4 782  , 10368, 488                                                                                                                             "
      ]
     },
     "metadata": {},
     "output_type": "display_data"
    }
   ],
   "source": [
    "KEGG_res <- KEGG_res[KEGG_res$padj < 0.05, ]\n",
    "KEGG_res <- KEGG_res[order(KEGG_res$padj), ]\n",
    "KEGG_res"
   ]
  },
  {
   "cell_type": "markdown",
   "metadata": {},
   "source": [
    "### GO analysis"
   ]
  },
  {
   "cell_type": "code",
   "execution_count": 30,
   "metadata": {},
   "outputs": [],
   "source": [
    "GO_res <- fgsea(pathway = go.sets.hs, stats = ranks, \n",
    "                  scoreType = \"pos\", \n",
    "                  nperm = 10000)"
   ]
  },
  {
   "cell_type": "code",
   "execution_count": 31,
   "metadata": {},
   "outputs": [
    {
     "data": {
      "text/html": [
       "<table class=\"dataframe\">\n",
       "<caption>A data.table: 14 × 8</caption>\n",
       "<thead>\n",
       "\t<tr><th scope=col>pathway</th><th scope=col>pval</th><th scope=col>padj</th><th scope=col>ES</th><th scope=col>NES</th><th scope=col>nMoreExtreme</th><th scope=col>size</th><th scope=col>leadingEdge</th></tr>\n",
       "\t<tr><th scope=col>&lt;chr&gt;</th><th scope=col>&lt;dbl&gt;</th><th scope=col>&lt;dbl&gt;</th><th scope=col>&lt;dbl&gt;</th><th scope=col>&lt;dbl&gt;</th><th scope=col>&lt;dbl&gt;</th><th scope=col>&lt;int&gt;</th><th scope=col>&lt;list&gt;</th></tr>\n",
       "</thead>\n",
       "<tbody>\n",
       "\t<tr><td>GO:0007268 synaptic transmission             </td><td>9.999e-05</td><td>0.03276815</td><td>0.5173240</td><td>4.253207</td><td>0</td><td> 18</td><td>2030 , 7433 , 2567 , 10368, 9228 , 4885 , 351  , 6855 , 3754 , 627  , 1325 , 8775 , 2119 , 8411 </td></tr>\n",
       "\t<tr><td>GO:0019226 transmission of nerve impulse     </td><td>9.999e-05</td><td>0.03276815</td><td>0.5173240</td><td>4.253207</td><td>0</td><td> 18</td><td>2030 , 7433 , 2567 , 10368, 9228 , 4885 , 351  , 6855 , 3754 , 627  , 1325 , 8775 , 2119 , 8411 </td></tr>\n",
       "\t<tr><td>GO:0035637 multicellular organismal signaling</td><td>9.999e-05</td><td>0.03276815</td><td>0.5173240</td><td>4.253207</td><td>0</td><td> 18</td><td>2030 , 7433 , 2567 , 10368, 9228 , 4885 , 351  , 6855 , 3754 , 627  , 1325 , 8775 , 2119 , 8411 </td></tr>\n",
       "\t<tr><td>GO:0044710 single-organism metabolic process </td><td>9.999e-05</td><td>0.03276815</td><td>0.2081513</td><td>4.055953</td><td>0</td><td> 87</td><td>196463, 379   , 128486, 56603 , 5315  , 5306  , 10554 , 2026  , 7070  , 211   , 3376  , 4929  , 9791  , 2805  , 3098  , 51400 , 488   , 80146 , 81565 , 5660  , 254531, 4191  , 9435  , 351   , 2274  , 4705  , 8703  , 627   , 291   , 10197 , 10999 , 377   , 25830 , 1431  , 2583  , 3030  , 4504  , 56898 </td></tr>\n",
       "\t<tr><td>GO:0055085 transmembrane transport           </td><td>9.999e-05</td><td>0.03276815</td><td>0.6229814</td><td>4.973285</td><td>0</td><td> 17</td><td>2030  , 9114  , 9673  , 2567  , 10368 , 6574  , 3098  , 488   , 148808, 7781  , 537   , 10999 , 11261 , 206358</td></tr>\n",
       "\t<tr><td>GO:0012505 endomembrane system               </td><td>9.999e-05</td><td>0.03276815</td><td>0.2735325</td><td>4.333796</td><td>0</td><td> 59</td><td>55176 , 128486, 56603 , 9114  , 10554 , 90523 , 26031 , 84937 , 10368 , 9158  , 9791  , 488   , 80146 , 81565 , 6734  , 254531, 9435  , 351   , 7781  , 112936, 6252  , 6855  , 8703  , 55638 , 10999 , 11261 , 377   , 2583  </td></tr>\n",
       "\t<tr><td>GO:0016020 membrane                          </td><td>9.999e-05</td><td>0.03276815</td><td>0.2301382</td><td>5.829337</td><td>0</td><td>151</td><td>2030  , 7433  , 379   , 55176 , 128486, 56603 , 5315  , 55054 , 9143  , 9114  , 3852  , 9673  , 10554 , 79137 , 2026  , 2567  , 7070  , 26031 , 8941  , 782   , 84937 , 10368 , 9158  , 6574  , 9791  , 654429, 3098  , 488   , 80146 , 5660  , 10540 , 6734  , 64101 , 9228  , 254531, 4191  , 9435  , 148808, 351   , 7781  , 4185  , 4705  , 8851  , 112936, 6252  , 537   , 6855  , 8703  , 130733, 3754  , 291   , 55638 , 10999 , 79102 , 11261 , 377   , 8775  , 206358, 2583  </td></tr>\n",
       "\t<tr><td>GO:0016021 integral to membrane              </td><td>9.999e-05</td><td>0.03276815</td><td>0.2560690</td><td>4.961501</td><td>0</td><td> 86</td><td>2030  , 7433  , 55176 , 128486, 9143  , 9673  , 10554 , 79137 , 2567  , 7070  , 782   , 10368 , 6574  , 9791  , 654429, 488   , 80146 , 5660  , 6734  , 64101 , 254531, 9435  , 148808, 351   , 7781  , 4185  , 6252  , 537   , 6855  , 8703  , 130733, 3754  , 291   , 55638 , 10999 , 79102 , 206358, 2583  </td></tr>\n",
       "\t<tr><td>GO:0016324 apical plasma membrane            </td><td>9.999e-05</td><td>0.03276815</td><td>0.9450758</td><td>3.123176</td><td>0</td><td>  3</td><td>2030, 9114, 7070</td></tr>\n",
       "\t<tr><td>GO:0031090 organelle membrane                </td><td>9.999e-05</td><td>0.03276815</td><td>0.2282151</td><td>4.130642</td><td>0</td><td> 75</td><td>55176 , 128486, 56603 , 55054 , 9114  , 9673  , 10554 , 26031 , 84937 , 10368 , 9791  , 3098  , 488   , 80146 , 5660  , 6734  , 254531, 4191  , 9435  , 7781  , 4705  , 6252  , 537   , 6855  , 8703  , 291   , 55638 , 10999 , 11261 , 377   , 206358, 2583  , 3030  , 7095  </td></tr>\n",
       "\t<tr><td>GO:0031224 intrinsic to membrane             </td><td>9.999e-05</td><td>0.03276815</td><td>0.2508139</td><td>4.887259</td><td>0</td><td> 87</td><td>2030  , 7433  , 55176 , 128486, 9143  , 9673  , 10554 , 79137 , 2567  , 7070  , 782   , 10368 , 6574  , 9791  , 654429, 488   , 80146 , 5660  , 6734  , 64101 , 254531, 9435  , 148808, 351   , 7781  , 4185  , 6252  , 537   , 6855  , 8703  , 130733, 3754  , 291   , 55638 , 10999 , 79102 , 206358, 2583  </td></tr>\n",
       "\t<tr><td>GO:0044425 membrane part                     </td><td>9.999e-05</td><td>0.03276815</td><td>0.2311358</td><td>5.010790</td><td>0</td><td>107</td><td>2030  , 7433  , 55176 , 128486, 56603 , 9143  , 9114  , 9673  , 10554 , 79137 , 2567  , 7070  , 782   , 10368 , 6574  , 9791  , 654429, 3098  , 488   , 80146 , 5660  , 6734  , 64101 , 254531, 9435  , 148808, 351   , 7781  , 4185  , 4705  , 112936, 6252  , 537   , 6855  , 8703  , 130733, 3754  , 291   , 55638 , 10999 , 79102 , 8775  , 206358, 2583  </td></tr>\n",
       "\t<tr><td>GO:0044456 synapse part                      </td><td>9.999e-05</td><td>0.03276815</td><td>0.6869141</td><td>4.559455</td><td>0</td><td> 12</td><td>9143 , 9114 , 2567 , 84937, 64101, 9228 , 7781 , 8851 , 6855 , 627  , 4504 </td></tr>\n",
       "\t<tr><td>GO:0045202 synapse                           </td><td>9.999e-05</td><td>0.03276815</td><td>0.5597597</td><td>4.187409</td><td>0</td><td> 15</td><td>9143 , 9114 , 2567 , 84937, 64101, 9228 , 351  , 7781 , 8851 , 6855 , 627  , 4504 </td></tr>\n",
       "</tbody>\n",
       "</table>\n"
      ],
      "text/latex": [
       "A data.table: 14 × 8\n",
       "\\begin{tabular}{llllllll}\n",
       " pathway & pval & padj & ES & NES & nMoreExtreme & size & leadingEdge\\\\\n",
       " <chr> & <dbl> & <dbl> & <dbl> & <dbl> & <dbl> & <int> & <list>\\\\\n",
       "\\hline\n",
       "\t GO:0007268 synaptic transmission              & 9.999e-05 & 0.03276815 & 0.5173240 & 4.253207 & 0 &  18 & 2030 , 7433 , 2567 , 10368, 9228 , 4885 , 351  , 6855 , 3754 , 627  , 1325 , 8775 , 2119 , 8411 \\\\\n",
       "\t GO:0019226 transmission of nerve impulse      & 9.999e-05 & 0.03276815 & 0.5173240 & 4.253207 & 0 &  18 & 2030 , 7433 , 2567 , 10368, 9228 , 4885 , 351  , 6855 , 3754 , 627  , 1325 , 8775 , 2119 , 8411 \\\\\n",
       "\t GO:0035637 multicellular organismal signaling & 9.999e-05 & 0.03276815 & 0.5173240 & 4.253207 & 0 &  18 & 2030 , 7433 , 2567 , 10368, 9228 , 4885 , 351  , 6855 , 3754 , 627  , 1325 , 8775 , 2119 , 8411 \\\\\n",
       "\t GO:0044710 single-organism metabolic process  & 9.999e-05 & 0.03276815 & 0.2081513 & 4.055953 & 0 &  87 & 196463, 379   , 128486, 56603 , 5315  , 5306  , 10554 , 2026  , 7070  , 211   , 3376  , 4929  , 9791  , 2805  , 3098  , 51400 , 488   , 80146 , 81565 , 5660  , 254531, 4191  , 9435  , 351   , 2274  , 4705  , 8703  , 627   , 291   , 10197 , 10999 , 377   , 25830 , 1431  , 2583  , 3030  , 4504  , 56898 \\\\\n",
       "\t GO:0055085 transmembrane transport            & 9.999e-05 & 0.03276815 & 0.6229814 & 4.973285 & 0 &  17 & 2030  , 9114  , 9673  , 2567  , 10368 , 6574  , 3098  , 488   , 148808, 7781  , 537   , 10999 , 11261 , 206358\\\\\n",
       "\t GO:0012505 endomembrane system                & 9.999e-05 & 0.03276815 & 0.2735325 & 4.333796 & 0 &  59 & 55176 , 128486, 56603 , 9114  , 10554 , 90523 , 26031 , 84937 , 10368 , 9158  , 9791  , 488   , 80146 , 81565 , 6734  , 254531, 9435  , 351   , 7781  , 112936, 6252  , 6855  , 8703  , 55638 , 10999 , 11261 , 377   , 2583  \\\\\n",
       "\t GO:0016020 membrane                           & 9.999e-05 & 0.03276815 & 0.2301382 & 5.829337 & 0 & 151 & 2030  , 7433  , 379   , 55176 , 128486, 56603 , 5315  , 55054 , 9143  , 9114  , 3852  , 9673  , 10554 , 79137 , 2026  , 2567  , 7070  , 26031 , 8941  , 782   , 84937 , 10368 , 9158  , 6574  , 9791  , 654429, 3098  , 488   , 80146 , 5660  , 10540 , 6734  , 64101 , 9228  , 254531, 4191  , 9435  , 148808, 351   , 7781  , 4185  , 4705  , 8851  , 112936, 6252  , 537   , 6855  , 8703  , 130733, 3754  , 291   , 55638 , 10999 , 79102 , 11261 , 377   , 8775  , 206358, 2583  \\\\\n",
       "\t GO:0016021 integral to membrane               & 9.999e-05 & 0.03276815 & 0.2560690 & 4.961501 & 0 &  86 & 2030  , 7433  , 55176 , 128486, 9143  , 9673  , 10554 , 79137 , 2567  , 7070  , 782   , 10368 , 6574  , 9791  , 654429, 488   , 80146 , 5660  , 6734  , 64101 , 254531, 9435  , 148808, 351   , 7781  , 4185  , 6252  , 537   , 6855  , 8703  , 130733, 3754  , 291   , 55638 , 10999 , 79102 , 206358, 2583  \\\\\n",
       "\t GO:0016324 apical plasma membrane             & 9.999e-05 & 0.03276815 & 0.9450758 & 3.123176 & 0 &   3 & 2030, 9114, 7070\\\\\n",
       "\t GO:0031090 organelle membrane                 & 9.999e-05 & 0.03276815 & 0.2282151 & 4.130642 & 0 &  75 & 55176 , 128486, 56603 , 55054 , 9114  , 9673  , 10554 , 26031 , 84937 , 10368 , 9791  , 3098  , 488   , 80146 , 5660  , 6734  , 254531, 4191  , 9435  , 7781  , 4705  , 6252  , 537   , 6855  , 8703  , 291   , 55638 , 10999 , 11261 , 377   , 206358, 2583  , 3030  , 7095  \\\\\n",
       "\t GO:0031224 intrinsic to membrane              & 9.999e-05 & 0.03276815 & 0.2508139 & 4.887259 & 0 &  87 & 2030  , 7433  , 55176 , 128486, 9143  , 9673  , 10554 , 79137 , 2567  , 7070  , 782   , 10368 , 6574  , 9791  , 654429, 488   , 80146 , 5660  , 6734  , 64101 , 254531, 9435  , 148808, 351   , 7781  , 4185  , 6252  , 537   , 6855  , 8703  , 130733, 3754  , 291   , 55638 , 10999 , 79102 , 206358, 2583  \\\\\n",
       "\t GO:0044425 membrane part                      & 9.999e-05 & 0.03276815 & 0.2311358 & 5.010790 & 0 & 107 & 2030  , 7433  , 55176 , 128486, 56603 , 9143  , 9114  , 9673  , 10554 , 79137 , 2567  , 7070  , 782   , 10368 , 6574  , 9791  , 654429, 3098  , 488   , 80146 , 5660  , 6734  , 64101 , 254531, 9435  , 148808, 351   , 7781  , 4185  , 4705  , 112936, 6252  , 537   , 6855  , 8703  , 130733, 3754  , 291   , 55638 , 10999 , 79102 , 8775  , 206358, 2583  \\\\\n",
       "\t GO:0044456 synapse part                       & 9.999e-05 & 0.03276815 & 0.6869141 & 4.559455 & 0 &  12 & 9143 , 9114 , 2567 , 84937, 64101, 9228 , 7781 , 8851 , 6855 , 627  , 4504 \\\\\n",
       "\t GO:0045202 synapse                            & 9.999e-05 & 0.03276815 & 0.5597597 & 4.187409 & 0 &  15 & 9143 , 9114 , 2567 , 84937, 64101, 9228 , 351  , 7781 , 8851 , 6855 , 627  , 4504 \\\\\n",
       "\\end{tabular}\n"
      ],
      "text/markdown": [
       "\n",
       "A data.table: 14 × 8\n",
       "\n",
       "| pathway &lt;chr&gt; | pval &lt;dbl&gt; | padj &lt;dbl&gt; | ES &lt;dbl&gt; | NES &lt;dbl&gt; | nMoreExtreme &lt;dbl&gt; | size &lt;int&gt; | leadingEdge &lt;list&gt; |\n",
       "|---|---|---|---|---|---|---|---|\n",
       "| GO:0007268 synaptic transmission              | 9.999e-05 | 0.03276815 | 0.5173240 | 4.253207 | 0 |  18 | 2030 , 7433 , 2567 , 10368, 9228 , 4885 , 351  , 6855 , 3754 , 627  , 1325 , 8775 , 2119 , 8411  |\n",
       "| GO:0019226 transmission of nerve impulse      | 9.999e-05 | 0.03276815 | 0.5173240 | 4.253207 | 0 |  18 | 2030 , 7433 , 2567 , 10368, 9228 , 4885 , 351  , 6855 , 3754 , 627  , 1325 , 8775 , 2119 , 8411  |\n",
       "| GO:0035637 multicellular organismal signaling | 9.999e-05 | 0.03276815 | 0.5173240 | 4.253207 | 0 |  18 | 2030 , 7433 , 2567 , 10368, 9228 , 4885 , 351  , 6855 , 3754 , 627  , 1325 , 8775 , 2119 , 8411  |\n",
       "| GO:0044710 single-organism metabolic process  | 9.999e-05 | 0.03276815 | 0.2081513 | 4.055953 | 0 |  87 | 196463, 379   , 128486, 56603 , 5315  , 5306  , 10554 , 2026  , 7070  , 211   , 3376  , 4929  , 9791  , 2805  , 3098  , 51400 , 488   , 80146 , 81565 , 5660  , 254531, 4191  , 9435  , 351   , 2274  , 4705  , 8703  , 627   , 291   , 10197 , 10999 , 377   , 25830 , 1431  , 2583  , 3030  , 4504  , 56898  |\n",
       "| GO:0055085 transmembrane transport            | 9.999e-05 | 0.03276815 | 0.6229814 | 4.973285 | 0 |  17 | 2030  , 9114  , 9673  , 2567  , 10368 , 6574  , 3098  , 488   , 148808, 7781  , 537   , 10999 , 11261 , 206358 |\n",
       "| GO:0012505 endomembrane system                | 9.999e-05 | 0.03276815 | 0.2735325 | 4.333796 | 0 |  59 | 55176 , 128486, 56603 , 9114  , 10554 , 90523 , 26031 , 84937 , 10368 , 9158  , 9791  , 488   , 80146 , 81565 , 6734  , 254531, 9435  , 351   , 7781  , 112936, 6252  , 6855  , 8703  , 55638 , 10999 , 11261 , 377   , 2583   |\n",
       "| GO:0016020 membrane                           | 9.999e-05 | 0.03276815 | 0.2301382 | 5.829337 | 0 | 151 | 2030  , 7433  , 379   , 55176 , 128486, 56603 , 5315  , 55054 , 9143  , 9114  , 3852  , 9673  , 10554 , 79137 , 2026  , 2567  , 7070  , 26031 , 8941  , 782   , 84937 , 10368 , 9158  , 6574  , 9791  , 654429, 3098  , 488   , 80146 , 5660  , 10540 , 6734  , 64101 , 9228  , 254531, 4191  , 9435  , 148808, 351   , 7781  , 4185  , 4705  , 8851  , 112936, 6252  , 537   , 6855  , 8703  , 130733, 3754  , 291   , 55638 , 10999 , 79102 , 11261 , 377   , 8775  , 206358, 2583   |\n",
       "| GO:0016021 integral to membrane               | 9.999e-05 | 0.03276815 | 0.2560690 | 4.961501 | 0 |  86 | 2030  , 7433  , 55176 , 128486, 9143  , 9673  , 10554 , 79137 , 2567  , 7070  , 782   , 10368 , 6574  , 9791  , 654429, 488   , 80146 , 5660  , 6734  , 64101 , 254531, 9435  , 148808, 351   , 7781  , 4185  , 6252  , 537   , 6855  , 8703  , 130733, 3754  , 291   , 55638 , 10999 , 79102 , 206358, 2583   |\n",
       "| GO:0016324 apical plasma membrane             | 9.999e-05 | 0.03276815 | 0.9450758 | 3.123176 | 0 |   3 | 2030, 9114, 7070 |\n",
       "| GO:0031090 organelle membrane                 | 9.999e-05 | 0.03276815 | 0.2282151 | 4.130642 | 0 |  75 | 55176 , 128486, 56603 , 55054 , 9114  , 9673  , 10554 , 26031 , 84937 , 10368 , 9791  , 3098  , 488   , 80146 , 5660  , 6734  , 254531, 4191  , 9435  , 7781  , 4705  , 6252  , 537   , 6855  , 8703  , 291   , 55638 , 10999 , 11261 , 377   , 206358, 2583  , 3030  , 7095   |\n",
       "| GO:0031224 intrinsic to membrane              | 9.999e-05 | 0.03276815 | 0.2508139 | 4.887259 | 0 |  87 | 2030  , 7433  , 55176 , 128486, 9143  , 9673  , 10554 , 79137 , 2567  , 7070  , 782   , 10368 , 6574  , 9791  , 654429, 488   , 80146 , 5660  , 6734  , 64101 , 254531, 9435  , 148808, 351   , 7781  , 4185  , 6252  , 537   , 6855  , 8703  , 130733, 3754  , 291   , 55638 , 10999 , 79102 , 206358, 2583   |\n",
       "| GO:0044425 membrane part                      | 9.999e-05 | 0.03276815 | 0.2311358 | 5.010790 | 0 | 107 | 2030  , 7433  , 55176 , 128486, 56603 , 9143  , 9114  , 9673  , 10554 , 79137 , 2567  , 7070  , 782   , 10368 , 6574  , 9791  , 654429, 3098  , 488   , 80146 , 5660  , 6734  , 64101 , 254531, 9435  , 148808, 351   , 7781  , 4185  , 4705  , 112936, 6252  , 537   , 6855  , 8703  , 130733, 3754  , 291   , 55638 , 10999 , 79102 , 8775  , 206358, 2583   |\n",
       "| GO:0044456 synapse part                       | 9.999e-05 | 0.03276815 | 0.6869141 | 4.559455 | 0 |  12 | 9143 , 9114 , 2567 , 84937, 64101, 9228 , 7781 , 8851 , 6855 , 627  , 4504  |\n",
       "| GO:0045202 synapse                            | 9.999e-05 | 0.03276815 | 0.5597597 | 4.187409 | 0 |  15 | 9143 , 9114 , 2567 , 84937, 64101, 9228 , 351  , 7781 , 8851 , 6855 , 627  , 4504  |\n",
       "\n"
      ],
      "text/plain": [
       "   pathway                                       pval      padj       ES       \n",
       "1  GO:0007268 synaptic transmission              9.999e-05 0.03276815 0.5173240\n",
       "2  GO:0019226 transmission of nerve impulse      9.999e-05 0.03276815 0.5173240\n",
       "3  GO:0035637 multicellular organismal signaling 9.999e-05 0.03276815 0.5173240\n",
       "4  GO:0044710 single-organism metabolic process  9.999e-05 0.03276815 0.2081513\n",
       "5  GO:0055085 transmembrane transport            9.999e-05 0.03276815 0.6229814\n",
       "6  GO:0012505 endomembrane system                9.999e-05 0.03276815 0.2735325\n",
       "7  GO:0016020 membrane                           9.999e-05 0.03276815 0.2301382\n",
       "8  GO:0016021 integral to membrane               9.999e-05 0.03276815 0.2560690\n",
       "9  GO:0016324 apical plasma membrane             9.999e-05 0.03276815 0.9450758\n",
       "10 GO:0031090 organelle membrane                 9.999e-05 0.03276815 0.2282151\n",
       "11 GO:0031224 intrinsic to membrane              9.999e-05 0.03276815 0.2508139\n",
       "12 GO:0044425 membrane part                      9.999e-05 0.03276815 0.2311358\n",
       "13 GO:0044456 synapse part                       9.999e-05 0.03276815 0.6869141\n",
       "14 GO:0045202 synapse                            9.999e-05 0.03276815 0.5597597\n",
       "   NES      nMoreExtreme size\n",
       "1  4.253207 0             18 \n",
       "2  4.253207 0             18 \n",
       "3  4.253207 0             18 \n",
       "4  4.055953 0             87 \n",
       "5  4.973285 0             17 \n",
       "6  4.333796 0             59 \n",
       "7  5.829337 0            151 \n",
       "8  4.961501 0             86 \n",
       "9  3.123176 0              3 \n",
       "10 4.130642 0             75 \n",
       "11 4.887259 0             87 \n",
       "12 5.010790 0            107 \n",
       "13 4.559455 0             12 \n",
       "14 4.187409 0             15 \n",
       "   leadingEdge                                                                                                                                                                                                                                                                                                                                                                                                                                                                           \n",
       "1  2030 , 7433 , 2567 , 10368, 9228 , 4885 , 351  , 6855 , 3754 , 627  , 1325 , 8775 , 2119 , 8411                                                                                                                                                                                                                                                                                                                                                                                       \n",
       "2  2030 , 7433 , 2567 , 10368, 9228 , 4885 , 351  , 6855 , 3754 , 627  , 1325 , 8775 , 2119 , 8411                                                                                                                                                                                                                                                                                                                                                                                       \n",
       "3  2030 , 7433 , 2567 , 10368, 9228 , 4885 , 351  , 6855 , 3754 , 627  , 1325 , 8775 , 2119 , 8411                                                                                                                                                                                                                                                                                                                                                                                       \n",
       "4  196463, 379   , 128486, 56603 , 5315  , 5306  , 10554 , 2026  , 7070  , 211   , 3376  , 4929  , 9791  , 2805  , 3098  , 51400 , 488   , 80146 , 81565 , 5660  , 254531, 4191  , 9435  , 351   , 2274  , 4705  , 8703  , 627   , 291   , 10197 , 10999 , 377   , 25830 , 1431  , 2583  , 3030  , 4504  , 56898                                                                                                                                                                         \n",
       "5  2030  , 9114  , 9673  , 2567  , 10368 , 6574  , 3098  , 488   , 148808, 7781  , 537   , 10999 , 11261 , 206358                                                                                                                                                                                                                                                                                                                                                                        \n",
       "6  55176 , 128486, 56603 , 9114  , 10554 , 90523 , 26031 , 84937 , 10368 , 9158  , 9791  , 488   , 80146 , 81565 , 6734  , 254531, 9435  , 351   , 7781  , 112936, 6252  , 6855  , 8703  , 55638 , 10999 , 11261 , 377   , 2583                                                                                                                                                                                                                                                          \n",
       "7  2030  , 7433  , 379   , 55176 , 128486, 56603 , 5315  , 55054 , 9143  , 9114  , 3852  , 9673  , 10554 , 79137 , 2026  , 2567  , 7070  , 26031 , 8941  , 782   , 84937 , 10368 , 9158  , 6574  , 9791  , 654429, 3098  , 488   , 80146 , 5660  , 10540 , 6734  , 64101 , 9228  , 254531, 4191  , 9435  , 148808, 351   , 7781  , 4185  , 4705  , 8851  , 112936, 6252  , 537   , 6855  , 8703  , 130733, 3754  , 291   , 55638 , 10999 , 79102 , 11261 , 377   , 8775  , 206358, 2583  \n",
       "8  2030  , 7433  , 55176 , 128486, 9143  , 9673  , 10554 , 79137 , 2567  , 7070  , 782   , 10368 , 6574  , 9791  , 654429, 488   , 80146 , 5660  , 6734  , 64101 , 254531, 9435  , 148808, 351   , 7781  , 4185  , 6252  , 537   , 6855  , 8703  , 130733, 3754  , 291   , 55638 , 10999 , 79102 , 206358, 2583                                                                                                                                                                          \n",
       "9  2030, 9114, 7070                                                                                                                                                                                                                                                                                                                                                                                                                                                                      \n",
       "10 55176 , 128486, 56603 , 55054 , 9114  , 9673  , 10554 , 26031 , 84937 , 10368 , 9791  , 3098  , 488   , 80146 , 5660  , 6734  , 254531, 4191  , 9435  , 7781  , 4705  , 6252  , 537   , 6855  , 8703  , 291   , 55638 , 10999 , 11261 , 377   , 206358, 2583  , 3030  , 7095                                                                                                                                                                                                          \n",
       "11 2030  , 7433  , 55176 , 128486, 9143  , 9673  , 10554 , 79137 , 2567  , 7070  , 782   , 10368 , 6574  , 9791  , 654429, 488   , 80146 , 5660  , 6734  , 64101 , 254531, 9435  , 148808, 351   , 7781  , 4185  , 6252  , 537   , 6855  , 8703  , 130733, 3754  , 291   , 55638 , 10999 , 79102 , 206358, 2583                                                                                                                                                                          \n",
       "12 2030  , 7433  , 55176 , 128486, 56603 , 9143  , 9114  , 9673  , 10554 , 79137 , 2567  , 7070  , 782   , 10368 , 6574  , 9791  , 654429, 3098  , 488   , 80146 , 5660  , 6734  , 64101 , 254531, 9435  , 148808, 351   , 7781  , 4185  , 4705  , 112936, 6252  , 537   , 6855  , 8703  , 130733, 3754  , 291   , 55638 , 10999 , 79102 , 8775  , 206358, 2583                                                                                                                          \n",
       "13 9143 , 9114 , 2567 , 84937, 64101, 9228 , 7781 , 8851 , 6855 , 627  , 4504                                                                                                                                                                                                                                                                                                                                                                                                            \n",
       "14 9143 , 9114 , 2567 , 84937, 64101, 9228 , 351  , 7781 , 8851 , 6855 , 627  , 4504                                                                                                                                                                                                                                                                                                                                                                                                     "
      ]
     },
     "metadata": {},
     "output_type": "display_data"
    }
   ],
   "source": [
    "GO_res <- GO_res[GO_res$padj < 0.05, ]\n",
    "GO_res <- GO_res[order(GO_res$padj), ]\n",
    "GO_res"
   ]
  },
  {
   "cell_type": "markdown",
   "metadata": {},
   "source": [
    "# Сравнение полученных результатов"
   ]
  },
  {
   "cell_type": "markdown",
   "metadata": {},
   "source": [
    "## DAVID (ORA) VS fgsea (GSEA)"
   ]
  },
  {
   "cell_type": "markdown",
   "metadata": {},
   "source": [
    "KEGG:"
   ]
  },
  {
   "cell_type": "code",
   "execution_count": 32,
   "metadata": {},
   "outputs": [
    {
     "data": {
      "text/html": [
       "<table class=\"dataframe\">\n",
       "<caption>A data.table: 0 × 1</caption>\n",
       "<thead>\n",
       "\t<tr><th scope=col>pathway</th></tr>\n",
       "\t<tr><th scope=col>&lt;chr&gt;</th></tr>\n",
       "</thead>\n",
       "<tbody>\n",
       "</tbody>\n",
       "</table>\n"
      ],
      "text/latex": [
       "A data.table: 0 × 1\n",
       "\\begin{tabular}{l}\n",
       " pathway\\\\\n",
       " <chr>\\\\\n",
       "\\hline\n",
       "\\end{tabular}\n"
      ],
      "text/markdown": [
       "\n",
       "A data.table: 0 × 1\n",
       "\n",
       "| pathway &lt;chr&gt; |\n",
       "|---|\n",
       "\n"
      ],
      "text/plain": [
       "     pathway"
      ]
     },
     "metadata": {},
     "output_type": "display_data"
    }
   ],
   "source": [
    "KEGG_DAVID <- substring(KEGG_best$Term, 1, 8)\n",
    "KEGG_fgsea <- substring(KEGG_res$pathway, 1, 8)\n",
    "\n",
    "KEGG_res[KEGG_fgsea %in% KEGG_DAVID, 1]"
   ]
  },
  {
   "cell_type": "markdown",
   "metadata": {},
   "source": [
    "GO:"
   ]
  },
  {
   "cell_type": "code",
   "execution_count": 33,
   "metadata": {},
   "outputs": [
    {
     "data": {
      "text/html": [
       "<table class=\"dataframe\">\n",
       "<caption>A data.table: 0 × 1</caption>\n",
       "<thead>\n",
       "\t<tr><th scope=col>pathway</th></tr>\n",
       "\t<tr><th scope=col>&lt;chr&gt;</th></tr>\n",
       "</thead>\n",
       "<tbody>\n",
       "</tbody>\n",
       "</table>\n"
      ],
      "text/latex": [
       "A data.table: 0 × 1\n",
       "\\begin{tabular}{l}\n",
       " pathway\\\\\n",
       " <chr>\\\\\n",
       "\\hline\n",
       "\\end{tabular}\n"
      ],
      "text/markdown": [
       "\n",
       "A data.table: 0 × 1\n",
       "\n",
       "| pathway &lt;chr&gt; |\n",
       "|---|\n",
       "\n"
      ],
      "text/plain": [
       "     pathway"
      ]
     },
     "metadata": {},
     "output_type": "display_data"
    }
   ],
   "source": [
    "GO_DAVID <- substring(GO_best$Term, 1, 10)\n",
    "GO_fgsea <- substring(GO_res$pathway, 1, 10)\n",
    "\n",
    "GO_res[GO_fgsea %in% GO_DAVID, 1]"
   ]
  },
  {
   "cell_type": "markdown",
   "metadata": {},
   "source": [
    "Для KEGG и GO не совпал ни один результат. Поэтому попробуем расширить область поиска:\n",
    "1. Для результатов GO в DAVID выберем все опции, а не только подсвеченные красным (предложенные), а затем просто проведем фильтрацию дублирующихся.\n",
    "2. Используем порог по `padj`, приведенный в статье для `fgsea`: `padj < 0.25`."
   ]
  },
  {
   "cell_type": "markdown",
   "metadata": {},
   "source": [
    "### Пересчет DAVID GO:"
   ]
  },
  {
   "cell_type": "code",
   "execution_count": 34,
   "metadata": {},
   "outputs": [],
   "source": [
    "GO_data_2 <- read.table(\"GO_data_2.txt\", sep = \"\\t\", header = T)"
   ]
  },
  {
   "cell_type": "code",
   "execution_count": 35,
   "metadata": {},
   "outputs": [
    {
     "data": {
      "text/html": [
       "<table class=\"dataframe\">\n",
       "<caption>A data.frame: 6 × 3</caption>\n",
       "<thead>\n",
       "\t<tr><th></th><th scope=col>Category</th><th scope=col>Term</th><th scope=col>FDR</th></tr>\n",
       "\t<tr><th></th><th scope=col>&lt;chr&gt;</th><th scope=col>&lt;chr&gt;</th><th scope=col>&lt;dbl&gt;</th></tr>\n",
       "</thead>\n",
       "<tbody>\n",
       "\t<tr><th scope=row>1</th><td>GOTERM_BP_DIRECT</td><td>GO:0006614~SRP-dependent cotranslational protein targeting to membrane        </td><td>1.486120e-20</td></tr>\n",
       "\t<tr><th scope=row>4</th><td>GOTERM_BP_ALL   </td><td>GO:0045047~protein targeting to ER                                            </td><td>3.365411e-20</td></tr>\n",
       "\t<tr><th scope=row>5</th><td>GOTERM_BP_ALL   </td><td>GO:0006613~cotranslational protein targeting to membrane                      </td><td>3.365411e-20</td></tr>\n",
       "\t<tr><th scope=row>8</th><td>GOTERM_BP_ALL   </td><td>GO:0072599~establishment of protein localization to endoplasmic reticulum     </td><td>1.151998e-19</td></tr>\n",
       "\t<tr><th scope=row>11</th><td>GOTERM_BP_DIRECT</td><td>GO:0000184~nuclear-transcribed mRNA catabolic process, nonsense-mediated decay</td><td>2.556487e-19</td></tr>\n",
       "\t<tr><th scope=row>14</th><td>GOTERM_BP_DIRECT</td><td>GO:0006413~translational initiation                                           </td><td>1.324775e-18</td></tr>\n",
       "</tbody>\n",
       "</table>\n"
      ],
      "text/latex": [
       "A data.frame: 6 × 3\n",
       "\\begin{tabular}{r|lll}\n",
       "  & Category & Term & FDR\\\\\n",
       "  & <chr> & <chr> & <dbl>\\\\\n",
       "\\hline\n",
       "\t1 & GOTERM\\_BP\\_DIRECT & GO:0006614\\textasciitilde{}SRP-dependent cotranslational protein targeting to membrane         & 1.486120e-20\\\\\n",
       "\t4 & GOTERM\\_BP\\_ALL    & GO:0045047\\textasciitilde{}protein targeting to ER                                             & 3.365411e-20\\\\\n",
       "\t5 & GOTERM\\_BP\\_ALL    & GO:0006613\\textasciitilde{}cotranslational protein targeting to membrane                       & 3.365411e-20\\\\\n",
       "\t8 & GOTERM\\_BP\\_ALL    & GO:0072599\\textasciitilde{}establishment of protein localization to endoplasmic reticulum      & 1.151998e-19\\\\\n",
       "\t11 & GOTERM\\_BP\\_DIRECT & GO:0000184\\textasciitilde{}nuclear-transcribed mRNA catabolic process, nonsense-mediated decay & 2.556487e-19\\\\\n",
       "\t14 & GOTERM\\_BP\\_DIRECT & GO:0006413\\textasciitilde{}translational initiation                                            & 1.324775e-18\\\\\n",
       "\\end{tabular}\n"
      ],
      "text/markdown": [
       "\n",
       "A data.frame: 6 × 3\n",
       "\n",
       "| <!--/--> | Category &lt;chr&gt; | Term &lt;chr&gt; | FDR &lt;dbl&gt; |\n",
       "|---|---|---|---|\n",
       "| 1 | GOTERM_BP_DIRECT | GO:0006614~SRP-dependent cotranslational protein targeting to membrane         | 1.486120e-20 |\n",
       "| 4 | GOTERM_BP_ALL    | GO:0045047~protein targeting to ER                                             | 3.365411e-20 |\n",
       "| 5 | GOTERM_BP_ALL    | GO:0006613~cotranslational protein targeting to membrane                       | 3.365411e-20 |\n",
       "| 8 | GOTERM_BP_ALL    | GO:0072599~establishment of protein localization to endoplasmic reticulum      | 1.151998e-19 |\n",
       "| 11 | GOTERM_BP_DIRECT | GO:0000184~nuclear-transcribed mRNA catabolic process, nonsense-mediated decay | 2.556487e-19 |\n",
       "| 14 | GOTERM_BP_DIRECT | GO:0006413~translational initiation                                            | 1.324775e-18 |\n",
       "\n"
      ],
      "text/plain": [
       "   Category        \n",
       "1  GOTERM_BP_DIRECT\n",
       "4  GOTERM_BP_ALL   \n",
       "5  GOTERM_BP_ALL   \n",
       "8  GOTERM_BP_ALL   \n",
       "11 GOTERM_BP_DIRECT\n",
       "14 GOTERM_BP_DIRECT\n",
       "   Term                                                                          \n",
       "1  GO:0006614~SRP-dependent cotranslational protein targeting to membrane        \n",
       "4  GO:0045047~protein targeting to ER                                            \n",
       "5  GO:0006613~cotranslational protein targeting to membrane                      \n",
       "8  GO:0072599~establishment of protein localization to endoplasmic reticulum     \n",
       "11 GO:0000184~nuclear-transcribed mRNA catabolic process, nonsense-mediated decay\n",
       "14 GO:0006413~translational initiation                                           \n",
       "   FDR         \n",
       "1  1.486120e-20\n",
       "4  3.365411e-20\n",
       "5  3.365411e-20\n",
       "8  1.151998e-19\n",
       "11 2.556487e-19\n",
       "14 1.324775e-18"
      ]
     },
     "metadata": {},
     "output_type": "display_data"
    }
   ],
   "source": [
    "# удаляем дубликаты по именам, оставляя минимальный FDR\n",
    "GO_data_2 <- GO_data_2[with(GO_data_2, ave(FDR, Term, FUN = min) == FDR), ]\n",
    "GO_best_2 <- GO_data_2[GO_data_2$FDR < 0.05, c(\"Category\", \"Term\", \"FDR\")]\n",
    "GO_best_2 <- GO_best_2[order(GO_best_2$FDR), ]\n",
    "head(GO_best_2)"
   ]
  },
  {
   "cell_type": "markdown",
   "metadata": {},
   "source": [
    "### Пересчет результатов fgsea\n",
    "\n",
    "KEGG:"
   ]
  },
  {
   "cell_type": "code",
   "execution_count": 46,
   "metadata": {},
   "outputs": [],
   "source": [
    "KEGG_res_new <- fgsea(pathway = kegg.sets.hs, stats = ranks, \n",
    "                  scoreType = \"pos\", \n",
    "                  nperm = 1000)"
   ]
  },
  {
   "cell_type": "code",
   "execution_count": 47,
   "metadata": {},
   "outputs": [
    {
     "data": {
      "text/html": [
       "<table class=\"dataframe\">\n",
       "<caption>A data.table: 16 × 8</caption>\n",
       "<thead>\n",
       "\t<tr><th scope=col>pathway</th><th scope=col>pval</th><th scope=col>padj</th><th scope=col>ES</th><th scope=col>NES</th><th scope=col>nMoreExtreme</th><th scope=col>size</th><th scope=col>leadingEdge</th></tr>\n",
       "\t<tr><th scope=col>&lt;chr&gt;</th><th scope=col>&lt;dbl&gt;</th><th scope=col>&lt;dbl&gt;</th><th scope=col>&lt;dbl&gt;</th><th scope=col>&lt;dbl&gt;</th><th scope=col>&lt;dbl&gt;</th><th scope=col>&lt;int&gt;</th><th scope=col>&lt;list&gt;</th></tr>\n",
       "</thead>\n",
       "<tbody>\n",
       "\t<tr><td>hsa01100 Metabolic pathways                                    </td><td>0.000999001</td><td>0.07042957</td><td>0.3093807</td><td>3.552067</td><td> 0</td><td>32</td><td>5315  , 9114  , 10554 , 2026  , 211   , 9791  , 2805  , 3098  , 80146 , 254531, 4191  , 4705  , 537   , 8703  , 1431  , 2583  , 3030  , 56898 </td></tr>\n",
       "\t<tr><td>hsa05412 Arrhythmogenic right ventricular cardiomyopathy (ARVC)</td><td>0.001998002</td><td>0.07042957</td><td>0.9034091</td><td>3.044110</td><td> 1</td><td> 3</td><td>782  , 10368, 488  </td></tr>\n",
       "\t<tr><td>hsa00564 Glycerophospholipid metabolism                        </td><td>0.001998002</td><td>0.07042957</td><td>0.8806818</td><td>2.967528</td><td> 1</td><td> 3</td><td>10554 , 9791  , 254531</td></tr>\n",
       "\t<tr><td>hsa05410 Hypertrophic cardiomyopathy (HCM)                     </td><td>0.001998002</td><td>0.07042957</td><td>0.9034091</td><td>3.044110</td><td> 1</td><td> 3</td><td>782  , 10368, 488  </td></tr>\n",
       "\t<tr><td>hsa04010 MAPK signaling pathway                                </td><td>0.011988012</td><td>0.15366452</td><td>0.4238828</td><td>2.771108</td><td>11</td><td>11</td><td>1849 , 5536 , 782  , 10368, 627  , 11261, 51347, 9261 , 5613 </td></tr>\n",
       "\t<tr><td>hsa00520 Amino sugar and nucleotide sugar metabolism           </td><td>0.009990010</td><td>0.15366452</td><td>0.8998110</td><td>2.486075</td><td> 9</td><td> 2</td><td>3098 , 80146</td></tr>\n",
       "\t<tr><td>hsa04142 Lysosome                                              </td><td>0.011988012</td><td>0.15366452</td><td>0.6584440</td><td>2.573585</td><td>11</td><td> 4</td><td>9114, 5660, 537 , 1777</td></tr>\n",
       "\t<tr><td>hsa05414 Dilated cardiomyopathy                                </td><td>0.010989011</td><td>0.15366452</td><td>0.6604582</td><td>2.581458</td><td>10</td><td> 4</td><td>782  , 10368, 488  </td></tr>\n",
       "\t<tr><td>hsa00500 Starch and sucrose metabolism                         </td><td>0.009990010</td><td>0.15366452</td><td>0.8998110</td><td>2.486075</td><td> 9</td><td> 2</td><td>3098 , 80146</td></tr>\n",
       "\t<tr><td>hsa03060 Protein export                                        </td><td>0.006993007</td><td>0.15366452</td><td>0.6831120</td><td>2.670002</td><td> 6</td><td> 4</td><td>55176, 6734 , 7095 , 23478</td></tr>\n",
       "\t<tr><td>hsa04930 Type II diabetes mellitus                             </td><td>0.008991009</td><td>0.15366452</td><td>0.9073724</td><td>2.506967</td><td> 8</td><td> 2</td><td>5315, 3098</td></tr>\n",
       "\t<tr><td>hsa00010 Glycolysis / Gluconeogenesis                          </td><td>0.020979021</td><td>0.22754169</td><td>0.5737910</td><td>2.465443</td><td>20</td><td> 5</td><td>5315  , 2026  , 3098  , 130589</td></tr>\n",
       "\t<tr><td>hsa04020 Calcium signaling pathway                             </td><td>0.019980020</td><td>0.22754169</td><td>0.6242884</td><td>2.440085</td><td>19</td><td> 4</td><td>488  , 291  , 11261, 5613 </td></tr>\n",
       "\t<tr><td>hsa03010 Ribosome                                              </td><td>0.024975025</td><td>0.23476523</td><td>0.2019222</td><td>2.398106</td><td>24</td><td>34</td><td>6191 , 6194 , 6222 , 6136 , 6229 , 6235 , 6202 , 6156 , 6167 , 6169 , 6188 , 6175 , 6164 , 6176 , 23521, 6223 , 6206 , 6161 , 6157 , 6168 , 6134 , 6230 , 11224, 6135 , 6181 , 25873, 6224 , 6210 , 6125 , 6232 , 6160 , 6228 , 6124 , 6152 </td></tr>\n",
       "\t<tr><td>hsa00533 Glycosaminoglycan biosynthesis - keratan sulfate      </td><td>0.023976024</td><td>0.23476523</td><td>0.8260870</td><td>2.282384</td><td>23</td><td> 2</td><td>9435, 8703</td></tr>\n",
       "\t<tr><td>hsa00230 Purine metabolism                                     </td><td>0.027972028</td><td>0.24650350</td><td>0.9830189</td><td>1.959590</td><td>27</td><td> 1</td><td>5315</td></tr>\n",
       "</tbody>\n",
       "</table>\n"
      ],
      "text/latex": [
       "A data.table: 16 × 8\n",
       "\\begin{tabular}{llllllll}\n",
       " pathway & pval & padj & ES & NES & nMoreExtreme & size & leadingEdge\\\\\n",
       " <chr> & <dbl> & <dbl> & <dbl> & <dbl> & <dbl> & <int> & <list>\\\\\n",
       "\\hline\n",
       "\t hsa01100 Metabolic pathways                                     & 0.000999001 & 0.07042957 & 0.3093807 & 3.552067 &  0 & 32 & 5315  , 9114  , 10554 , 2026  , 211   , 9791  , 2805  , 3098  , 80146 , 254531, 4191  , 4705  , 537   , 8703  , 1431  , 2583  , 3030  , 56898 \\\\\n",
       "\t hsa05412 Arrhythmogenic right ventricular cardiomyopathy (ARVC) & 0.001998002 & 0.07042957 & 0.9034091 & 3.044110 &  1 &  3 & 782  , 10368, 488  \\\\\n",
       "\t hsa00564 Glycerophospholipid metabolism                         & 0.001998002 & 0.07042957 & 0.8806818 & 2.967528 &  1 &  3 & 10554 , 9791  , 254531\\\\\n",
       "\t hsa05410 Hypertrophic cardiomyopathy (HCM)                      & 0.001998002 & 0.07042957 & 0.9034091 & 3.044110 &  1 &  3 & 782  , 10368, 488  \\\\\n",
       "\t hsa04010 MAPK signaling pathway                                 & 0.011988012 & 0.15366452 & 0.4238828 & 2.771108 & 11 & 11 & 1849 , 5536 , 782  , 10368, 627  , 11261, 51347, 9261 , 5613 \\\\\n",
       "\t hsa00520 Amino sugar and nucleotide sugar metabolism            & 0.009990010 & 0.15366452 & 0.8998110 & 2.486075 &  9 &  2 & 3098 , 80146\\\\\n",
       "\t hsa04142 Lysosome                                               & 0.011988012 & 0.15366452 & 0.6584440 & 2.573585 & 11 &  4 & 9114, 5660, 537 , 1777\\\\\n",
       "\t hsa05414 Dilated cardiomyopathy                                 & 0.010989011 & 0.15366452 & 0.6604582 & 2.581458 & 10 &  4 & 782  , 10368, 488  \\\\\n",
       "\t hsa00500 Starch and sucrose metabolism                          & 0.009990010 & 0.15366452 & 0.8998110 & 2.486075 &  9 &  2 & 3098 , 80146\\\\\n",
       "\t hsa03060 Protein export                                         & 0.006993007 & 0.15366452 & 0.6831120 & 2.670002 &  6 &  4 & 55176, 6734 , 7095 , 23478\\\\\n",
       "\t hsa04930 Type II diabetes mellitus                              & 0.008991009 & 0.15366452 & 0.9073724 & 2.506967 &  8 &  2 & 5315, 3098\\\\\n",
       "\t hsa00010 Glycolysis / Gluconeogenesis                           & 0.020979021 & 0.22754169 & 0.5737910 & 2.465443 & 20 &  5 & 5315  , 2026  , 3098  , 130589\\\\\n",
       "\t hsa04020 Calcium signaling pathway                              & 0.019980020 & 0.22754169 & 0.6242884 & 2.440085 & 19 &  4 & 488  , 291  , 11261, 5613 \\\\\n",
       "\t hsa03010 Ribosome                                               & 0.024975025 & 0.23476523 & 0.2019222 & 2.398106 & 24 & 34 & 6191 , 6194 , 6222 , 6136 , 6229 , 6235 , 6202 , 6156 , 6167 , 6169 , 6188 , 6175 , 6164 , 6176 , 23521, 6223 , 6206 , 6161 , 6157 , 6168 , 6134 , 6230 , 11224, 6135 , 6181 , 25873, 6224 , 6210 , 6125 , 6232 , 6160 , 6228 , 6124 , 6152 \\\\\n",
       "\t hsa00533 Glycosaminoglycan biosynthesis - keratan sulfate       & 0.023976024 & 0.23476523 & 0.8260870 & 2.282384 & 23 &  2 & 9435, 8703\\\\\n",
       "\t hsa00230 Purine metabolism                                      & 0.027972028 & 0.24650350 & 0.9830189 & 1.959590 & 27 &  1 & 5315\\\\\n",
       "\\end{tabular}\n"
      ],
      "text/markdown": [
       "\n",
       "A data.table: 16 × 8\n",
       "\n",
       "| pathway &lt;chr&gt; | pval &lt;dbl&gt; | padj &lt;dbl&gt; | ES &lt;dbl&gt; | NES &lt;dbl&gt; | nMoreExtreme &lt;dbl&gt; | size &lt;int&gt; | leadingEdge &lt;list&gt; |\n",
       "|---|---|---|---|---|---|---|---|\n",
       "| hsa01100 Metabolic pathways                                     | 0.000999001 | 0.07042957 | 0.3093807 | 3.552067 |  0 | 32 | 5315  , 9114  , 10554 , 2026  , 211   , 9791  , 2805  , 3098  , 80146 , 254531, 4191  , 4705  , 537   , 8703  , 1431  , 2583  , 3030  , 56898  |\n",
       "| hsa05412 Arrhythmogenic right ventricular cardiomyopathy (ARVC) | 0.001998002 | 0.07042957 | 0.9034091 | 3.044110 |  1 |  3 | 782  , 10368, 488   |\n",
       "| hsa00564 Glycerophospholipid metabolism                         | 0.001998002 | 0.07042957 | 0.8806818 | 2.967528 |  1 |  3 | 10554 , 9791  , 254531 |\n",
       "| hsa05410 Hypertrophic cardiomyopathy (HCM)                      | 0.001998002 | 0.07042957 | 0.9034091 | 3.044110 |  1 |  3 | 782  , 10368, 488   |\n",
       "| hsa04010 MAPK signaling pathway                                 | 0.011988012 | 0.15366452 | 0.4238828 | 2.771108 | 11 | 11 | 1849 , 5536 , 782  , 10368, 627  , 11261, 51347, 9261 , 5613  |\n",
       "| hsa00520 Amino sugar and nucleotide sugar metabolism            | 0.009990010 | 0.15366452 | 0.8998110 | 2.486075 |  9 |  2 | 3098 , 80146 |\n",
       "| hsa04142 Lysosome                                               | 0.011988012 | 0.15366452 | 0.6584440 | 2.573585 | 11 |  4 | 9114, 5660, 537 , 1777 |\n",
       "| hsa05414 Dilated cardiomyopathy                                 | 0.010989011 | 0.15366452 | 0.6604582 | 2.581458 | 10 |  4 | 782  , 10368, 488   |\n",
       "| hsa00500 Starch and sucrose metabolism                          | 0.009990010 | 0.15366452 | 0.8998110 | 2.486075 |  9 |  2 | 3098 , 80146 |\n",
       "| hsa03060 Protein export                                         | 0.006993007 | 0.15366452 | 0.6831120 | 2.670002 |  6 |  4 | 55176, 6734 , 7095 , 23478 |\n",
       "| hsa04930 Type II diabetes mellitus                              | 0.008991009 | 0.15366452 | 0.9073724 | 2.506967 |  8 |  2 | 5315, 3098 |\n",
       "| hsa00010 Glycolysis / Gluconeogenesis                           | 0.020979021 | 0.22754169 | 0.5737910 | 2.465443 | 20 |  5 | 5315  , 2026  , 3098  , 130589 |\n",
       "| hsa04020 Calcium signaling pathway                              | 0.019980020 | 0.22754169 | 0.6242884 | 2.440085 | 19 |  4 | 488  , 291  , 11261, 5613  |\n",
       "| hsa03010 Ribosome                                               | 0.024975025 | 0.23476523 | 0.2019222 | 2.398106 | 24 | 34 | 6191 , 6194 , 6222 , 6136 , 6229 , 6235 , 6202 , 6156 , 6167 , 6169 , 6188 , 6175 , 6164 , 6176 , 23521, 6223 , 6206 , 6161 , 6157 , 6168 , 6134 , 6230 , 11224, 6135 , 6181 , 25873, 6224 , 6210 , 6125 , 6232 , 6160 , 6228 , 6124 , 6152  |\n",
       "| hsa00533 Glycosaminoglycan biosynthesis - keratan sulfate       | 0.023976024 | 0.23476523 | 0.8260870 | 2.282384 | 23 |  2 | 9435, 8703 |\n",
       "| hsa00230 Purine metabolism                                      | 0.027972028 | 0.24650350 | 0.9830189 | 1.959590 | 27 |  1 | 5315 |\n",
       "\n"
      ],
      "text/plain": [
       "   pathway                                                         pval       \n",
       "1  hsa01100 Metabolic pathways                                     0.000999001\n",
       "2  hsa05412 Arrhythmogenic right ventricular cardiomyopathy (ARVC) 0.001998002\n",
       "3  hsa00564 Glycerophospholipid metabolism                         0.001998002\n",
       "4  hsa05410 Hypertrophic cardiomyopathy (HCM)                      0.001998002\n",
       "5  hsa04010 MAPK signaling pathway                                 0.011988012\n",
       "6  hsa00520 Amino sugar and nucleotide sugar metabolism            0.009990010\n",
       "7  hsa04142 Lysosome                                               0.011988012\n",
       "8  hsa05414 Dilated cardiomyopathy                                 0.010989011\n",
       "9  hsa00500 Starch and sucrose metabolism                          0.009990010\n",
       "10 hsa03060 Protein export                                         0.006993007\n",
       "11 hsa04930 Type II diabetes mellitus                              0.008991009\n",
       "12 hsa00010 Glycolysis / Gluconeogenesis                           0.020979021\n",
       "13 hsa04020 Calcium signaling pathway                              0.019980020\n",
       "14 hsa03010 Ribosome                                               0.024975025\n",
       "15 hsa00533 Glycosaminoglycan biosynthesis - keratan sulfate       0.023976024\n",
       "16 hsa00230 Purine metabolism                                      0.027972028\n",
       "   padj       ES        NES      nMoreExtreme size\n",
       "1  0.07042957 0.3093807 3.552067  0           32  \n",
       "2  0.07042957 0.9034091 3.044110  1            3  \n",
       "3  0.07042957 0.8806818 2.967528  1            3  \n",
       "4  0.07042957 0.9034091 3.044110  1            3  \n",
       "5  0.15366452 0.4238828 2.771108 11           11  \n",
       "6  0.15366452 0.8998110 2.486075  9            2  \n",
       "7  0.15366452 0.6584440 2.573585 11            4  \n",
       "8  0.15366452 0.6604582 2.581458 10            4  \n",
       "9  0.15366452 0.8998110 2.486075  9            2  \n",
       "10 0.15366452 0.6831120 2.670002  6            4  \n",
       "11 0.15366452 0.9073724 2.506967  8            2  \n",
       "12 0.22754169 0.5737910 2.465443 20            5  \n",
       "13 0.22754169 0.6242884 2.440085 19            4  \n",
       "14 0.23476523 0.2019222 2.398106 24           34  \n",
       "15 0.23476523 0.8260870 2.282384 23            2  \n",
       "16 0.24650350 0.9830189 1.959590 27            1  \n",
       "   leadingEdge                                                                                                                                                                                                                                 \n",
       "1  5315  , 9114  , 10554 , 2026  , 211   , 9791  , 2805  , 3098  , 80146 , 254531, 4191  , 4705  , 537   , 8703  , 1431  , 2583  , 3030  , 56898                                                                                               \n",
       "2  782  , 10368, 488                                                                                                                                                                                                                           \n",
       "3  10554 , 9791  , 254531                                                                                                                                                                                                                      \n",
       "4  782  , 10368, 488                                                                                                                                                                                                                           \n",
       "5  1849 , 5536 , 782  , 10368, 627  , 11261, 51347, 9261 , 5613                                                                                                                                                                                \n",
       "6  3098 , 80146                                                                                                                                                                                                                                \n",
       "7  9114, 5660, 537 , 1777                                                                                                                                                                                                                      \n",
       "8  782  , 10368, 488                                                                                                                                                                                                                           \n",
       "9  3098 , 80146                                                                                                                                                                                                                                \n",
       "10 55176, 6734 , 7095 , 23478                                                                                                                                                                                                                  \n",
       "11 5315, 3098                                                                                                                                                                                                                                  \n",
       "12 5315  , 2026  , 3098  , 130589                                                                                                                                                                                                              \n",
       "13 488  , 291  , 11261, 5613                                                                                                                                                                                                                   \n",
       "14 6191 , 6194 , 6222 , 6136 , 6229 , 6235 , 6202 , 6156 , 6167 , 6169 , 6188 , 6175 , 6164 , 6176 , 23521, 6223 , 6206 , 6161 , 6157 , 6168 , 6134 , 6230 , 11224, 6135 , 6181 , 25873, 6224 , 6210 , 6125 , 6232 , 6160 , 6228 , 6124 , 6152 \n",
       "15 9435, 8703                                                                                                                                                                                                                                  \n",
       "16 5315                                                                                                                                                                                                                                        "
      ]
     },
     "metadata": {},
     "output_type": "display_data"
    }
   ],
   "source": [
    "KEGG_res_new <- KEGG_res_new[order(KEGG_res_new$padj), ]\n",
    "KEGG_res_new <- KEGG_res_new[KEGG_res_new$padj < 0.25, ]\n",
    "KEGG_res_new"
   ]
  },
  {
   "cell_type": "markdown",
   "metadata": {},
   "source": [
    "GO:"
   ]
  },
  {
   "cell_type": "code",
   "execution_count": 73,
   "metadata": {},
   "outputs": [],
   "source": [
    "GO_res_new <- fgsea(pathway = go.sets.hs, stats = ranks, \n",
    "                  scoreType = \"pos\", \n",
    "                  nperm = 8000)"
   ]
  },
  {
   "cell_type": "code",
   "execution_count": 76,
   "metadata": {},
   "outputs": [
    {
     "data": {
      "text/html": [
       "<table class=\"dataframe\">\n",
       "<caption>A data.table: 6 × 8</caption>\n",
       "<thead>\n",
       "\t<tr><th scope=col>pathway</th><th scope=col>pval</th><th scope=col>padj</th><th scope=col>ES</th><th scope=col>NES</th><th scope=col>nMoreExtreme</th><th scope=col>size</th><th scope=col>leadingEdge</th></tr>\n",
       "\t<tr><th scope=col>&lt;chr&gt;</th><th scope=col>&lt;dbl&gt;</th><th scope=col>&lt;dbl&gt;</th><th scope=col>&lt;dbl&gt;</th><th scope=col>&lt;dbl&gt;</th><th scope=col>&lt;dbl&gt;</th><th scope=col>&lt;int&gt;</th><th scope=col>&lt;list&gt;</th></tr>\n",
       "</thead>\n",
       "<tbody>\n",
       "\t<tr><td>GO:0007268 synaptic transmission             </td><td>0.0001249844</td><td>0.05212985</td><td>0.5173240</td><td>4.311723</td><td>0</td><td>18</td><td>2030 , 7433 , 2567 , 10368, 9228 , 4885 , 351  , 6855 , 3754 , 627  , 1325 , 8775 , 2119 , 8411 </td></tr>\n",
       "\t<tr><td>GO:0019226 transmission of nerve impulse     </td><td>0.0001249844</td><td>0.05212985</td><td>0.5173240</td><td>4.311723</td><td>0</td><td>18</td><td>2030 , 7433 , 2567 , 10368, 9228 , 4885 , 351  , 6855 , 3754 , 627  , 1325 , 8775 , 2119 , 8411 </td></tr>\n",
       "\t<tr><td>GO:0035637 multicellular organismal signaling</td><td>0.0001249844</td><td>0.05212985</td><td>0.5173240</td><td>4.311723</td><td>0</td><td>18</td><td>2030 , 7433 , 2567 , 10368, 9228 , 4885 , 351  , 6855 , 3754 , 627  , 1325 , 8775 , 2119 , 8411 </td></tr>\n",
       "\t<tr><td>GO:0055085 transmembrane transport           </td><td>0.0001249844</td><td>0.05212985</td><td>0.6229814</td><td>5.040311</td><td>0</td><td>17</td><td>2030  , 9114  , 9673  , 2567  , 10368 , 6574  , 3098  , 488   , 148808, 7781  , 537   , 10999 , 11261 , 206358</td></tr>\n",
       "\t<tr><td>GO:0008021 synaptic vesicle                  </td><td>0.0001249844</td><td>0.05212985</td><td>0.7690840</td><td>3.925896</td><td>0</td><td> 7</td><td>9143 , 9114 , 84937, 7781 , 6855 , 627  , 4504 </td></tr>\n",
       "\t<tr><td>GO:0012505 endomembrane system               </td><td>0.0001249844</td><td>0.05212985</td><td>0.2735325</td><td>4.364479</td><td>0</td><td>59</td><td>55176 , 128486, 56603 , 9114  , 10554 , 90523 , 26031 , 84937 , 10368 , 9158  , 9791  , 488   , 80146 , 81565 , 6734  , 254531, 9435  , 351   , 7781  , 112936, 6252  , 6855  , 8703  , 55638 , 10999 , 11261 , 377   , 2583  </td></tr>\n",
       "</tbody>\n",
       "</table>\n"
      ],
      "text/latex": [
       "A data.table: 6 × 8\n",
       "\\begin{tabular}{llllllll}\n",
       " pathway & pval & padj & ES & NES & nMoreExtreme & size & leadingEdge\\\\\n",
       " <chr> & <dbl> & <dbl> & <dbl> & <dbl> & <dbl> & <int> & <list>\\\\\n",
       "\\hline\n",
       "\t GO:0007268 synaptic transmission              & 0.0001249844 & 0.05212985 & 0.5173240 & 4.311723 & 0 & 18 & 2030 , 7433 , 2567 , 10368, 9228 , 4885 , 351  , 6855 , 3754 , 627  , 1325 , 8775 , 2119 , 8411 \\\\\n",
       "\t GO:0019226 transmission of nerve impulse      & 0.0001249844 & 0.05212985 & 0.5173240 & 4.311723 & 0 & 18 & 2030 , 7433 , 2567 , 10368, 9228 , 4885 , 351  , 6855 , 3754 , 627  , 1325 , 8775 , 2119 , 8411 \\\\\n",
       "\t GO:0035637 multicellular organismal signaling & 0.0001249844 & 0.05212985 & 0.5173240 & 4.311723 & 0 & 18 & 2030 , 7433 , 2567 , 10368, 9228 , 4885 , 351  , 6855 , 3754 , 627  , 1325 , 8775 , 2119 , 8411 \\\\\n",
       "\t GO:0055085 transmembrane transport            & 0.0001249844 & 0.05212985 & 0.6229814 & 5.040311 & 0 & 17 & 2030  , 9114  , 9673  , 2567  , 10368 , 6574  , 3098  , 488   , 148808, 7781  , 537   , 10999 , 11261 , 206358\\\\\n",
       "\t GO:0008021 synaptic vesicle                   & 0.0001249844 & 0.05212985 & 0.7690840 & 3.925896 & 0 &  7 & 9143 , 9114 , 84937, 7781 , 6855 , 627  , 4504 \\\\\n",
       "\t GO:0012505 endomembrane system                & 0.0001249844 & 0.05212985 & 0.2735325 & 4.364479 & 0 & 59 & 55176 , 128486, 56603 , 9114  , 10554 , 90523 , 26031 , 84937 , 10368 , 9158  , 9791  , 488   , 80146 , 81565 , 6734  , 254531, 9435  , 351   , 7781  , 112936, 6252  , 6855  , 8703  , 55638 , 10999 , 11261 , 377   , 2583  \\\\\n",
       "\\end{tabular}\n"
      ],
      "text/markdown": [
       "\n",
       "A data.table: 6 × 8\n",
       "\n",
       "| pathway &lt;chr&gt; | pval &lt;dbl&gt; | padj &lt;dbl&gt; | ES &lt;dbl&gt; | NES &lt;dbl&gt; | nMoreExtreme &lt;dbl&gt; | size &lt;int&gt; | leadingEdge &lt;list&gt; |\n",
       "|---|---|---|---|---|---|---|---|\n",
       "| GO:0007268 synaptic transmission              | 0.0001249844 | 0.05212985 | 0.5173240 | 4.311723 | 0 | 18 | 2030 , 7433 , 2567 , 10368, 9228 , 4885 , 351  , 6855 , 3754 , 627  , 1325 , 8775 , 2119 , 8411  |\n",
       "| GO:0019226 transmission of nerve impulse      | 0.0001249844 | 0.05212985 | 0.5173240 | 4.311723 | 0 | 18 | 2030 , 7433 , 2567 , 10368, 9228 , 4885 , 351  , 6855 , 3754 , 627  , 1325 , 8775 , 2119 , 8411  |\n",
       "| GO:0035637 multicellular organismal signaling | 0.0001249844 | 0.05212985 | 0.5173240 | 4.311723 | 0 | 18 | 2030 , 7433 , 2567 , 10368, 9228 , 4885 , 351  , 6855 , 3754 , 627  , 1325 , 8775 , 2119 , 8411  |\n",
       "| GO:0055085 transmembrane transport            | 0.0001249844 | 0.05212985 | 0.6229814 | 5.040311 | 0 | 17 | 2030  , 9114  , 9673  , 2567  , 10368 , 6574  , 3098  , 488   , 148808, 7781  , 537   , 10999 , 11261 , 206358 |\n",
       "| GO:0008021 synaptic vesicle                   | 0.0001249844 | 0.05212985 | 0.7690840 | 3.925896 | 0 |  7 | 9143 , 9114 , 84937, 7781 , 6855 , 627  , 4504  |\n",
       "| GO:0012505 endomembrane system                | 0.0001249844 | 0.05212985 | 0.2735325 | 4.364479 | 0 | 59 | 55176 , 128486, 56603 , 9114  , 10554 , 90523 , 26031 , 84937 , 10368 , 9158  , 9791  , 488   , 80146 , 81565 , 6734  , 254531, 9435  , 351   , 7781  , 112936, 6252  , 6855  , 8703  , 55638 , 10999 , 11261 , 377   , 2583   |\n",
       "\n"
      ],
      "text/plain": [
       "  pathway                                       pval         padj      \n",
       "1 GO:0007268 synaptic transmission              0.0001249844 0.05212985\n",
       "2 GO:0019226 transmission of nerve impulse      0.0001249844 0.05212985\n",
       "3 GO:0035637 multicellular organismal signaling 0.0001249844 0.05212985\n",
       "4 GO:0055085 transmembrane transport            0.0001249844 0.05212985\n",
       "5 GO:0008021 synaptic vesicle                   0.0001249844 0.05212985\n",
       "6 GO:0012505 endomembrane system                0.0001249844 0.05212985\n",
       "  ES        NES      nMoreExtreme size\n",
       "1 0.5173240 4.311723 0            18  \n",
       "2 0.5173240 4.311723 0            18  \n",
       "3 0.5173240 4.311723 0            18  \n",
       "4 0.6229814 5.040311 0            17  \n",
       "5 0.7690840 3.925896 0             7  \n",
       "6 0.2735325 4.364479 0            59  \n",
       "  leadingEdge                                                                                                                                                                                                                   \n",
       "1 2030 , 7433 , 2567 , 10368, 9228 , 4885 , 351  , 6855 , 3754 , 627  , 1325 , 8775 , 2119 , 8411                                                                                                                               \n",
       "2 2030 , 7433 , 2567 , 10368, 9228 , 4885 , 351  , 6855 , 3754 , 627  , 1325 , 8775 , 2119 , 8411                                                                                                                               \n",
       "3 2030 , 7433 , 2567 , 10368, 9228 , 4885 , 351  , 6855 , 3754 , 627  , 1325 , 8775 , 2119 , 8411                                                                                                                               \n",
       "4 2030  , 9114  , 9673  , 2567  , 10368 , 6574  , 3098  , 488   , 148808, 7781  , 537   , 10999 , 11261 , 206358                                                                                                                \n",
       "5 9143 , 9114 , 84937, 7781 , 6855 , 627  , 4504                                                                                                                                                                                \n",
       "6 55176 , 128486, 56603 , 9114  , 10554 , 90523 , 26031 , 84937 , 10368 , 9158  , 9791  , 488   , 80146 , 81565 , 6734  , 254531, 9435  , 351   , 7781  , 112936, 6252  , 6855  , 8703  , 55638 , 10999 , 11261 , 377   , 2583  "
      ]
     },
     "metadata": {},
     "output_type": "display_data"
    }
   ],
   "source": [
    "GO_res_new <- GO_res_new[order(GO_res_new$padj), ]\n",
    "GO_res_new <- GO_res_new[GO_res_new$padj < 0.25, ]\n",
    "head(GO_res_new)"
   ]
  },
  {
   "cell_type": "markdown",
   "metadata": {},
   "source": [
    "### Новый поиск пересечений\n",
    "\n",
    "KEGG:"
   ]
  },
  {
   "cell_type": "code",
   "execution_count": 51,
   "metadata": {},
   "outputs": [
    {
     "data": {
      "text/html": [
       "<table class=\"dataframe\">\n",
       "<caption>A data.table: 1 × 1</caption>\n",
       "<thead>\n",
       "\t<tr><th scope=col>pathway</th></tr>\n",
       "\t<tr><th scope=col>&lt;chr&gt;</th></tr>\n",
       "</thead>\n",
       "<tbody>\n",
       "\t<tr><td>hsa03010 Ribosome</td></tr>\n",
       "</tbody>\n",
       "</table>\n"
      ],
      "text/latex": [
       "A data.table: 1 × 1\n",
       "\\begin{tabular}{l}\n",
       " pathway\\\\\n",
       " <chr>\\\\\n",
       "\\hline\n",
       "\t hsa03010 Ribosome\\\\\n",
       "\\end{tabular}\n"
      ],
      "text/markdown": [
       "\n",
       "A data.table: 1 × 1\n",
       "\n",
       "| pathway &lt;chr&gt; |\n",
       "|---|\n",
       "| hsa03010 Ribosome |\n",
       "\n"
      ],
      "text/plain": [
       "  pathway          \n",
       "1 hsa03010 Ribosome"
      ]
     },
     "metadata": {},
     "output_type": "display_data"
    }
   ],
   "source": [
    "KEGG_DAVID <- substring(KEGG_best$Term, 1, 8)\n",
    "KEGG_fgsea <- substring(KEGG_res_new$pathway, 1, 8)\n",
    "\n",
    "KEGG_res_new[KEGG_fgsea %in% KEGG_DAVID, 1]"
   ]
  },
  {
   "cell_type": "markdown",
   "metadata": {},
   "source": [
    "GO:"
   ]
  },
  {
   "cell_type": "code",
   "execution_count": 75,
   "metadata": {},
   "outputs": [
    {
     "data": {
      "text/html": [
       "<table class=\"dataframe\">\n",
       "<caption>A data.table: 2 × 1</caption>\n",
       "<thead>\n",
       "\t<tr><th scope=col>pathway</th></tr>\n",
       "\t<tr><th scope=col>&lt;chr&gt;</th></tr>\n",
       "</thead>\n",
       "<tbody>\n",
       "\t<tr><td>GO:1901564 organonitrogen compound metabolic process</td></tr>\n",
       "\t<tr><td>GO:0006612 protein targeting to membrane            </td></tr>\n",
       "</tbody>\n",
       "</table>\n"
      ],
      "text/latex": [
       "A data.table: 2 × 1\n",
       "\\begin{tabular}{l}\n",
       " pathway\\\\\n",
       " <chr>\\\\\n",
       "\\hline\n",
       "\t GO:1901564 organonitrogen compound metabolic process\\\\\n",
       "\t GO:0006612 protein targeting to membrane            \\\\\n",
       "\\end{tabular}\n"
      ],
      "text/markdown": [
       "\n",
       "A data.table: 2 × 1\n",
       "\n",
       "| pathway &lt;chr&gt; |\n",
       "|---|\n",
       "| GO:1901564 organonitrogen compound metabolic process |\n",
       "| GO:0006612 protein targeting to membrane             |\n",
       "\n"
      ],
      "text/plain": [
       "  pathway                                             \n",
       "1 GO:1901564 organonitrogen compound metabolic process\n",
       "2 GO:0006612 protein targeting to membrane            "
      ]
     },
     "metadata": {},
     "output_type": "display_data"
    }
   ],
   "source": [
    "GO_DAVID <- substring(GO_best_2$Term, 1, 10)\n",
    "GO_fgsea <- substring(GO_res_new$pathway, 1, 10)\n",
    "\n",
    "GO_res_new[GO_fgsea %in% GO_DAVID, 1]"
   ]
  },
  {
   "cell_type": "markdown",
   "metadata": {},
   "source": [
    "Итак, пересечения все-таки нашлись при бОльших наборах данных. Дифференциально экспрессирующимися как DAVID, так и fgsea были признаны следующие гены:\n",
    "\n",
    "__KEGG:__\n",
    "\n",
    "- hsa03010 Ribosome\n",
    "\n",
    "__GO:__\n",
    "\n",
    "- GO:1901564 organonitrogen compound metabolic process\n",
    "- GO:0006612 protein targeting to membrane\n",
    "\n",
    "_Note:_ Для GO можно получить результаты лучше, если немного повысить планку отсева, например, до `0.35` - достаточно много значений имеют `padj ~ 0.3` при параметрах `fgsea`, близких к стандартным. "
   ]
  },
  {
   "cell_type": "markdown",
   "metadata": {},
   "source": [
    "## Сравнение со статьей\n",
    "\n",
    "В статье сказано, что дифференциально экспрессирующихся генов для биполярного расстройства нашлось около 20 (для шизофрении - больше), однако упомянуты были не все, а лишь те, для которых было замечено аномальное поведение.  \n",
    "\n",
    "Также предметом статьи являлась больше шизофрения, нежели биполярное расстройство, и авторы сосредоточились больше на изучении дисрегулирующихся генов, а также тех, которые \"сложно\" экспрессируются (то есть экспрессируются в зависимости от других генов). Поэтому результаты, полученные нами, несколько разнятся с результатами, полученными в статье."
   ]
  },
  {
   "cell_type": "code",
   "execution_count": 145,
   "metadata": {},
   "outputs": [
    {
     "data": {
      "text/html": [
       "<style>\n",
       ".list-inline {list-style: none; margin:0; padding: 0}\n",
       ".list-inline>li {display: inline-block}\n",
       ".list-inline>li:not(:last-child)::after {content: \"\\00b7\"; padding: 0 .5ex}\n",
       "</style>\n",
       "<ol class=list-inline><li>'BDNF'</li><li>'GAN'</li></ol>\n"
      ],
      "text/latex": [
       "\\begin{enumerate*}\n",
       "\\item 'BDNF'\n",
       "\\item 'GAN'\n",
       "\\end{enumerate*}\n"
      ],
      "text/markdown": [
       "1. 'BDNF'\n",
       "2. 'GAN'\n",
       "\n",
       "\n"
      ],
      "text/plain": [
       "[1] \"BDNF\" \"GAN\" "
      ]
     },
     "metadata": {},
     "output_type": "display_data"
    }
   ],
   "source": [
    "# взяли названия генов, хоть немного связанных с биполярным расстройством\n",
    "article_genes <- c(\"BDNF\", \"GABRA1\", \"NPY\", \"AC008269\", \"GAN\", \"LINC01128\")\n",
    "article_genes[article_genes %in% gene_names$SYMBOL]"
   ]
  },
  {
   "cell_type": "markdown",
   "metadata": {},
   "source": [
    "Так, мы также признали дифференциально экспрессирующимися BDNF (регулирует выживание и рост нейронов и влияет на синаптическую эффективность и пластичность) и GAN (участвует в создании белка гигаксонин)."
   ]
  },
  {
   "cell_type": "markdown",
   "metadata": {},
   "source": [
    "Рассмотрим названия сверхпредставленных генов, предложенных в статье, и сравним с результатами, полученными с помощью GO и KEGG.\n",
    "\n",
    "Интересно, что сверхпредставленные гены в статье получены только для шизофрении: `BA24_SZ` и `BA9_SZ`, а для `BA11_BD` результатов не нашлось (поиск проводился только для GO; скорее всего, конкретно для этого эксперимента был задан порог ниже, чем `0.05`, поэтому получился такой результат). В нашем случае рассматривались также кейсы `BA24_BD` и `BA9_BD` (то есть рассматривались и другие области мозга), поэтому нашлись некоторые пересечения."
   ]
  },
  {
   "cell_type": "code",
   "execution_count": 147,
   "metadata": {},
   "outputs": [],
   "source": [
    "article_enrichment <- c(\"oligodendrocyte differentiation\",\n",
    "                       \"nervous system development\",\n",
    "                       \"layer formation in cerebral cortex\",\n",
    "                       \"establishment of synaptic vesicle localization\",\n",
    "                       \"glutamate biosynthetic process\",\n",
    "                       \"axon guidance\",\n",
    "                       \"synaptic vesicle endocytosis\",\n",
    "                       \"synaptic transmission\",\n",
    "                       \"glutamate secretion\",\n",
    "                       \"neurotrophin TRK receptor signaling pathway\",\n",
    "                       \"myelination\",\n",
    "                       \"central nervous system development\",\n",
    "                       \"central nervous system myelin maintenance\",\n",
    "                       \"gliogenesis\",\n",
    "                       \"action potential\",\n",
    "                       \"transmission of nerve impulse\",\n",
    "                       \"oligodendrocyte differentiation\",\n",
    "                       \"ensheathment of neurons\",\n",
    "                        \n",
    "                       \"regulation of long-term neuronal synaptic plasticity\",\n",
    "                       \"regulation of axon guidance\", \n",
    "                       \"locomotory exploration behavior\",\n",
    "                       \"activation of innate immune response\",\n",
    "                       \"immune system development\",\n",
    "                       \"negative regulation of neuron differentiation\",\n",
    "                       \"brain development\",\n",
    "                       \"central nrevous system myelination\",\n",
    "                       \"neuroligical system process\")"
   ]
  },
  {
   "cell_type": "markdown",
   "metadata": {},
   "source": [
    "### Результаты для GO"
   ]
  },
  {
   "cell_type": "markdown",
   "metadata": {},
   "source": [
    "DAVID:"
   ]
  },
  {
   "cell_type": "code",
   "execution_count": 168,
   "metadata": {},
   "outputs": [
    {
     "data": {
      "text/html": [
       "<table class=\"dataframe\">\n",
       "<caption>A data.frame: 0 × 3</caption>\n",
       "<thead>\n",
       "\t<tr><th scope=col>Category</th><th scope=col>Term</th><th scope=col>FDR</th></tr>\n",
       "\t<tr><th scope=col>&lt;chr&gt;</th><th scope=col>&lt;chr&gt;</th><th scope=col>&lt;dbl&gt;</th></tr>\n",
       "</thead>\n",
       "<tbody>\n",
       "</tbody>\n",
       "</table>\n"
      ],
      "text/latex": [
       "A data.frame: 0 × 3\n",
       "\\begin{tabular}{lll}\n",
       " Category & Term & FDR\\\\\n",
       " <chr> & <chr> & <dbl>\\\\\n",
       "\\hline\n",
       "\\end{tabular}\n"
      ],
      "text/markdown": [
       "\n",
       "A data.frame: 0 × 3\n",
       "\n",
       "| Category &lt;chr&gt; | Term &lt;chr&gt; | FDR &lt;dbl&gt; |\n",
       "|---|---|---|\n",
       "\n"
      ],
      "text/plain": [
       "     Category Term FDR"
      ]
     },
     "metadata": {},
     "output_type": "display_data"
    }
   ],
   "source": [
    "GO_best_2[substring(GO_best_2$Term, 12) %in% article_enrichment, ]"
   ]
  },
  {
   "cell_type": "markdown",
   "metadata": {},
   "source": [
    "fgsea:"
   ]
  },
  {
   "cell_type": "code",
   "execution_count": 166,
   "metadata": {},
   "outputs": [
    {
     "data": {
      "text/html": [
       "<table class=\"dataframe\">\n",
       "<caption>A data.table: 3 × 8</caption>\n",
       "<thead>\n",
       "\t<tr><th scope=col>pathway</th><th scope=col>pval</th><th scope=col>padj</th><th scope=col>ES</th><th scope=col>NES</th><th scope=col>nMoreExtreme</th><th scope=col>size</th><th scope=col>leadingEdge</th></tr>\n",
       "\t<tr><th scope=col>&lt;chr&gt;</th><th scope=col>&lt;dbl&gt;</th><th scope=col>&lt;dbl&gt;</th><th scope=col>&lt;dbl&gt;</th><th scope=col>&lt;dbl&gt;</th><th scope=col>&lt;dbl&gt;</th><th scope=col>&lt;int&gt;</th><th scope=col>&lt;list&gt;</th></tr>\n",
       "</thead>\n",
       "<tbody>\n",
       "\t<tr><td>GO:0007268 synaptic transmission        </td><td>0.0001249844</td><td>0.05212985</td><td>0.5173240</td><td>4.311723</td><td> 0</td><td>18</td><td>2030 , 7433 , 2567 , 10368, 9228 , 4885 , 351  , 6855 , 3754 , 627  , 1325 , 8775 , 2119 , 8411 </td></tr>\n",
       "\t<tr><td>GO:0019226 transmission of nerve impulse</td><td>0.0001249844</td><td>0.05212985</td><td>0.5173240</td><td>4.311723</td><td> 0</td><td>18</td><td>2030 , 7433 , 2567 , 10368, 9228 , 4885 , 351  , 6855 , 3754 , 627  , 1325 , 8775 , 2119 , 8411 </td></tr>\n",
       "\t<tr><td>GO:0007411 axon guidance                </td><td>0.0019997500</td><td>0.18724190</td><td>0.4520387</td><td>3.178089</td><td>15</td><td>13</td><td>5306 , 6478 , 782  , 8013 , 351  , 8851 , 627  , 10417, 4781 </td></tr>\n",
       "</tbody>\n",
       "</table>\n"
      ],
      "text/latex": [
       "A data.table: 3 × 8\n",
       "\\begin{tabular}{llllllll}\n",
       " pathway & pval & padj & ES & NES & nMoreExtreme & size & leadingEdge\\\\\n",
       " <chr> & <dbl> & <dbl> & <dbl> & <dbl> & <dbl> & <int> & <list>\\\\\n",
       "\\hline\n",
       "\t GO:0007268 synaptic transmission         & 0.0001249844 & 0.05212985 & 0.5173240 & 4.311723 &  0 & 18 & 2030 , 7433 , 2567 , 10368, 9228 , 4885 , 351  , 6855 , 3754 , 627  , 1325 , 8775 , 2119 , 8411 \\\\\n",
       "\t GO:0019226 transmission of nerve impulse & 0.0001249844 & 0.05212985 & 0.5173240 & 4.311723 &  0 & 18 & 2030 , 7433 , 2567 , 10368, 9228 , 4885 , 351  , 6855 , 3754 , 627  , 1325 , 8775 , 2119 , 8411 \\\\\n",
       "\t GO:0007411 axon guidance                 & 0.0019997500 & 0.18724190 & 0.4520387 & 3.178089 & 15 & 13 & 5306 , 6478 , 782  , 8013 , 351  , 8851 , 627  , 10417, 4781 \\\\\n",
       "\\end{tabular}\n"
      ],
      "text/markdown": [
       "\n",
       "A data.table: 3 × 8\n",
       "\n",
       "| pathway &lt;chr&gt; | pval &lt;dbl&gt; | padj &lt;dbl&gt; | ES &lt;dbl&gt; | NES &lt;dbl&gt; | nMoreExtreme &lt;dbl&gt; | size &lt;int&gt; | leadingEdge &lt;list&gt; |\n",
       "|---|---|---|---|---|---|---|---|\n",
       "| GO:0007268 synaptic transmission         | 0.0001249844 | 0.05212985 | 0.5173240 | 4.311723 |  0 | 18 | 2030 , 7433 , 2567 , 10368, 9228 , 4885 , 351  , 6855 , 3754 , 627  , 1325 , 8775 , 2119 , 8411  |\n",
       "| GO:0019226 transmission of nerve impulse | 0.0001249844 | 0.05212985 | 0.5173240 | 4.311723 |  0 | 18 | 2030 , 7433 , 2567 , 10368, 9228 , 4885 , 351  , 6855 , 3754 , 627  , 1325 , 8775 , 2119 , 8411  |\n",
       "| GO:0007411 axon guidance                 | 0.0019997500 | 0.18724190 | 0.4520387 | 3.178089 | 15 | 13 | 5306 , 6478 , 782  , 8013 , 351  , 8851 , 627  , 10417, 4781  |\n",
       "\n"
      ],
      "text/plain": [
       "  pathway                                  pval         padj       ES       \n",
       "1 GO:0007268 synaptic transmission         0.0001249844 0.05212985 0.5173240\n",
       "2 GO:0019226 transmission of nerve impulse 0.0001249844 0.05212985 0.5173240\n",
       "3 GO:0007411 axon guidance                 0.0019997500 0.18724190 0.4520387\n",
       "  NES      nMoreExtreme size\n",
       "1 4.311723  0           18  \n",
       "2 4.311723  0           18  \n",
       "3 3.178089 15           13  \n",
       "  leadingEdge                                                                                     \n",
       "1 2030 , 7433 , 2567 , 10368, 9228 , 4885 , 351  , 6855 , 3754 , 627  , 1325 , 8775 , 2119 , 8411 \n",
       "2 2030 , 7433 , 2567 , 10368, 9228 , 4885 , 351  , 6855 , 3754 , 627  , 1325 , 8775 , 2119 , 8411 \n",
       "3 5306 , 6478 , 782  , 8013 , 351  , 8851 , 627  , 10417, 4781                                    "
      ]
     },
     "metadata": {},
     "output_type": "display_data"
    }
   ],
   "source": [
    "GO_res_new[substring(GO_res_new$pathway, 12) %in% article_enrichment, ]"
   ]
  },
  {
   "cell_type": "markdown",
   "metadata": {},
   "source": [
    "### Результаты для KEGG"
   ]
  },
  {
   "cell_type": "markdown",
   "metadata": {},
   "source": [
    "DAVID:"
   ]
  },
  {
   "cell_type": "code",
   "execution_count": 173,
   "metadata": {},
   "outputs": [
    {
     "data": {
      "text/html": [
       "<table class=\"dataframe\">\n",
       "<caption>A data.frame: 0 × 3</caption>\n",
       "<thead>\n",
       "\t<tr><th scope=col>Category</th><th scope=col>Term</th><th scope=col>FDR</th></tr>\n",
       "\t<tr><th scope=col>&lt;chr&gt;</th><th scope=col>&lt;chr&gt;</th><th scope=col>&lt;dbl&gt;</th></tr>\n",
       "</thead>\n",
       "<tbody>\n",
       "</tbody>\n",
       "</table>\n"
      ],
      "text/latex": [
       "A data.frame: 0 × 3\n",
       "\\begin{tabular}{lll}\n",
       " Category & Term & FDR\\\\\n",
       " <chr> & <chr> & <dbl>\\\\\n",
       "\\hline\n",
       "\\end{tabular}\n"
      ],
      "text/markdown": [
       "\n",
       "A data.frame: 0 × 3\n",
       "\n",
       "| Category &lt;chr&gt; | Term &lt;chr&gt; | FDR &lt;dbl&gt; |\n",
       "|---|---|---|\n",
       "\n"
      ],
      "text/plain": [
       "     Category Term FDR"
      ]
     },
     "metadata": {},
     "output_type": "display_data"
    }
   ],
   "source": [
    "KEGG_best[tolower(substring(KEGG_best$Term, 10)) %in% article_enrichment, ]"
   ]
  },
  {
   "cell_type": "markdown",
   "metadata": {},
   "source": [
    "fgsea:"
   ]
  },
  {
   "cell_type": "code",
   "execution_count": 176,
   "metadata": {},
   "outputs": [
    {
     "data": {
      "text/html": [
       "<table class=\"dataframe\">\n",
       "<caption>A data.table: 0 × 8</caption>\n",
       "<thead>\n",
       "\t<tr><th scope=col>pathway</th><th scope=col>pval</th><th scope=col>padj</th><th scope=col>ES</th><th scope=col>NES</th><th scope=col>nMoreExtreme</th><th scope=col>size</th><th scope=col>leadingEdge</th></tr>\n",
       "\t<tr><th scope=col>&lt;chr&gt;</th><th scope=col>&lt;dbl&gt;</th><th scope=col>&lt;dbl&gt;</th><th scope=col>&lt;dbl&gt;</th><th scope=col>&lt;dbl&gt;</th><th scope=col>&lt;dbl&gt;</th><th scope=col>&lt;int&gt;</th><th scope=col>&lt;list&gt;</th></tr>\n",
       "</thead>\n",
       "<tbody>\n",
       "</tbody>\n",
       "</table>\n"
      ],
      "text/latex": [
       "A data.table: 0 × 8\n",
       "\\begin{tabular}{llllllll}\n",
       " pathway & pval & padj & ES & NES & nMoreExtreme & size & leadingEdge\\\\\n",
       " <chr> & <dbl> & <dbl> & <dbl> & <dbl> & <dbl> & <int> & <list>\\\\\n",
       "\\hline\n",
       "\\end{tabular}\n"
      ],
      "text/markdown": [
       "\n",
       "A data.table: 0 × 8\n",
       "\n",
       "| pathway &lt;chr&gt; | pval &lt;dbl&gt; | padj &lt;dbl&gt; | ES &lt;dbl&gt; | NES &lt;dbl&gt; | nMoreExtreme &lt;dbl&gt; | size &lt;int&gt; | leadingEdge &lt;list&gt; |\n",
       "|---|---|---|---|---|---|---|---|\n",
       "\n"
      ],
      "text/plain": [
       "     pathway pval padj ES NES nMoreExtreme size leadingEdge"
      ]
     },
     "metadata": {},
     "output_type": "display_data"
    }
   ],
   "source": [
    "KEGG_res_new[tolower(substring(KEGG_res_new$pathway, 10)) %in% article_enrichment, ]"
   ]
  },
  {
   "cell_type": "markdown",
   "metadata": {},
   "source": [
    "Анализ KEGG ожидаемо не показал совпадений (KEGG_pathways в принципе не исследовались в статье).  \n",
    "Анализ GO с помощью fgsea показал три совпадения с данными из статьи:\n",
    "- GO:0007268 synaptic transmission\t\n",
    "- GO:0019226 transmission of nerve impulse\n",
    "- GO:0007411 axon guidance\t\n",
    "\n",
    "Можно сделать вывод, что эти классы сверхпредставлены и для больных шизофренией (как указано в статье), и для больных биполярным расстройством (как удалось установить в нашем эксперименте)."
   ]
  }
 ],
 "metadata": {
  "kernelspec": {
   "display_name": "R",
   "language": "R",
   "name": "ir"
  },
  "language_info": {
   "codemirror_mode": "r",
   "file_extension": ".r",
   "mimetype": "text/x-r-source",
   "name": "R",
   "pygments_lexer": "r",
   "version": "4.0.3"
  }
 },
 "nbformat": 4,
 "nbformat_minor": 4
}
